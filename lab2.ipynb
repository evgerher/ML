{
 "cells": [
  {
   "cell_type": "code",
   "execution_count": 1,
   "metadata": {
    "collapsed": true
   },
   "outputs": [],
   "source": [
    "import pandas as pd\n",
    "import numpy as np\n",
    "import matplotlib.pyplot as plt\n",
    "import math\n",
    "import random\n",
    "from sklearn.linear_model import LinearRegression"
   ]
  },
  {
   "cell_type": "code",
   "execution_count": 2,
   "metadata": {
    "collapsed": true
   },
   "outputs": [],
   "source": [
    "# Albina Office Hours Wdnesday 16:00 - 17:30 463\n",
    "def generate_data(b1, b0, size, x_range=(-10, 10), noise_mean=0,\n",
    "                  noise_std=1):\n",
    "    \"\"\"\n",
    "          input:\n",
    "          b1, b0 - true parameters of data\n",
    "          size - size of data, numbers of samples\n",
    "    x_range - tuple of (min, max) x-values\n",
    "    noise_mean - noise mean value\n",
    "    noise_std - noise standard deviation\n",
    "\n",
    "          output:\n",
    "          data_x, data_y - data features\n",
    "          \"\"\"\n",
    "    noise = np.random.normal(noise_mean, noise_std, size)\n",
    "    rnd_vals = np.random.rand(size)\n",
    "    data_x = x_range[1] * rnd_vals + x_range[0] * (1 - rnd_vals)\n",
    "    data_y = b1 * data_x + b0 + noise\n",
    "    \n",
    "    return data_x, data_y\n",
    "\n",
    "\n",
    "def least_squares(x, y):\n",
    "    \"\"\"\n",
    "    input:\n",
    "    x, y - data features\n",
    "\n",
    "    output:\n",
    "    b1, b0 - predicted parameters of data\n",
    "    \"\"\"\n",
    "    mean_x = x.mean()\n",
    "    mean_y = y.mean()\n",
    "\n",
    "    b1 = np.dot(y - mean_y, x - mean_x) / np.dot(x - mean_x, x - mean_x)\n",
    "    b0 = mean_y - b1 * mean_x\n",
    "\n",
    "    return b1, b0\n",
    "\n",
    "\n",
    "def animate(data_x, data_y, true_b1, true_b0, LS, GD, x_range=(-10, 10)):\n",
    "    plt.scatter(data_x, data_y)\n",
    "    plt.plot([x_range[0], x_range[1]],\n",
    "             [x_range[0] * true_b1 + true_b0, x_range[1] * true_b1 + true_b0],\n",
    "             c=\"r\", linewidth=2, label=\"True\")\n",
    "    ls_b1, ls_b0 = LS[0], LS[1]\n",
    "    gd_b1, gd_b0 = GD[0], GD[1]\n",
    "    plt.plot([x_range[0], x_range[1]],\n",
    "             [x_range[0] * ls_b1 + ls_b0, x_range[1] * ls_b1 + ls_b0],\n",
    "             c=\"g\", linewidth=2, label='Least squares')\n",
    "    plt.plot([x_range[0], x_range[1]],\n",
    "             [x_range[0] * gd_b1 + gd_b0, x_range[1] * gd_b1 + gd_b0],\n",
    "             c=\"b\", linewidth=2, label='Gradient descent')\n",
    "    plt.legend()\n",
    "    plt.show()"
   ]
  },
  {
   "cell_type": "code",
   "execution_count": 49,
   "metadata": {
    "collapsed": true
   },
   "outputs": [],
   "source": [
    "def gradient_descent(x, y, alfa=0.03, stop=10, debug=False):\n",
    "    \"\"\"\n",
    "    input:\n",
    "    x, y - data features\n",
    "    \n",
    "    output:\n",
    "    b1, b0 - predicted parameters of data\n",
    "    \"\"\"\n",
    "    def mse(x, y, b0, b1, n):\n",
    "        mse = 0\n",
    "        for _ in range(n):\n",
    "            mse += (y[_] - (b1 * x[_] + b0))**2\n",
    "        return mse / n\n",
    "    \n",
    "    def derived_vals(x, y, b0, b1, n):\n",
    "        derive_b0 = 0\n",
    "        derive_b1 = 0\n",
    "        for _ in range(n):\n",
    "            derive_b0 +=(y[_] - (b1 * x[_] + b0))\n",
    "            derive_b1 += x[_] * (y[_] - (b1 * x[_] + b0))\n",
    "        derive_b0 = derive_b0 * (-2) / n\n",
    "        derive_b1 = derive_b1 * (-2) / n\n",
    "        \n",
    "        return derive_b0, derive_b1\n",
    "    \n",
    "    x_vals, y_vals = [], []\n",
    "    print(\"#\"*10)\n",
    "    print(\"Gradient descent starts execution\")\n",
    "    N = len(x)\n",
    "    b0, b1, b1_best, b0_best = 0, 0, 0, 0\n",
    "    mse_new = mse(x, y, b0, b1, N)\n",
    "    mse_min = mse_new\n",
    "    mse_old = 0\n",
    "    iteration = 0\n",
    "    while (math.fabs(mse_new) > stop and iteration < 5000):\n",
    "        derived_b0, derived_b1 = derived_vals(x, y, b0, b1, N)\n",
    "        if mse_new - mse_old > 10000:\n",
    "            raise Exception('Wrong param alfa')\n",
    "        b1 -= alfa * derived_b1\n",
    "        b0 -= alfa * derived_b0\n",
    "        mse_old = mse_new\n",
    "        mse_new = mse(x, y, b0, b1, N)\n",
    "        if mse_min > mse_new:\n",
    "            mse_min = mse_new\n",
    "            b1_best = b1\n",
    "            b0_best = b0\n",
    "        if iteration % 100 == 0:\n",
    "            alfa *= 0.95\n",
    "            if debug:\n",
    "                print(\"iteration {}, old MSE = {}, new MSE = {} :: b0 = {} , b1 = {}\".format(iteration, mse_old, mse_new, b0, b1))\n",
    "        iteration += 1    \n",
    "    print(\"End of gradient descent execution\")\n",
    "    print(\"#\"*10)\n",
    "    return b1_best, b0_best\n"
   ]
  },
  {
   "cell_type": "code",
   "execution_count": 50,
   "metadata": {
    "collapsed": true
   },
   "outputs": [],
   "source": [
    "### Parameters for data generation ###\n",
    "true_b1 = 2.5\n",
    "true_b0 = -7\n",
    "size = 100\n",
    "x_range = (0, 10)\n",
    "noise_mean = 0\n",
    "noise_std = 1"
   ]
  },
  {
   "cell_type": "code",
   "execution_count": 52,
   "metadata": {},
   "outputs": [
    {
     "name": "stdout",
     "output_type": "stream",
     "text": [
      "##########\n",
      "Gradient descent starts execution\n",
      "End of gradient descent execution\n",
      "##########\n",
      "true b1 : 2.5\n",
      "true b0 : -7\n",
      "calculated LS b1 : 2.421355630694733\n",
      "calculated LS b0 : -6.626498263587821\n",
      "calculated GD b1 : 2.42135563028803\n",
      "calculated GD b0 : -6.626498260916842\n"
     ]
    },
    {
     "data": {
      "image/png": "[encoded data removed]",
      "text/plain": [
       "<matplotlib.figure.Figure at 0x26718cad2b0>"
      ]
     },
     "metadata": {},
     "output_type": "display_data"
    }
   ],
   "source": [
    "# Generate the data\n",
    "data_x, data_y = generate_data(true_b1, true_b0, size,\n",
    "                               x_range=x_range,\n",
    "                               noise_mean=noise_mean,\n",
    "                               noise_std=noise_std)\n",
    "\n",
    "# Predict data's parameters\n",
    "ls_b1, ls_b0 = least_squares(data_x, data_y)\n",
    "gd_b1, gd_b0 = gradient_descent(data_x, data_y, alfa=0.03, stop=1e-5, debug=False)\n",
    "\n",
    "\n",
    "# plt.scatter(data_x, data_y, c='g')\n",
    "# plt.show()\n",
    "\n",
    "# Visualize the data\n",
    "print(\"true b1 : {}\\ntrue b0 : {}\".format(true_b1, true_b0))\n",
    "print(\"calculated LS b1 : {}\\ncalculated LS b0 : {}\".format(ls_b1, ls_b0))\n",
    "print(\"calculated GD b1 : {}\\ncalculated GD b0 : {}\".format(gd_b1, gd_b0))\n",
    "\n",
    "animate(data_x, data_y, true_b1, true_b0, (ls_b1, ls_b0), (gd_b1, gd_b0), x_range=x_range)"
   ]
  },
  {
   "cell_type": "code",
   "execution_count": 53,
   "metadata": {
    "collapsed": true
   },
   "outputs": [],
   "source": [
    "def shuffle_data(x, y, ratio):\n",
    "    train_x, train_y, test_x, test_y = [], [], [], []\n",
    "    for i in range(len(x)):\n",
    "        if random.random() < ratio:\n",
    "            train_x.append(x[i])\n",
    "            train_y.append(y[i])      \n",
    "        else:\n",
    "            test_x.append((x[i], ))\n",
    "            test_y.append(y[i])\n",
    "    return np.array([train_x]), np.array([train_y]), test_x, test_y"
   ]
  },
  {
   "cell_type": "code",
   "execution_count": 54,
   "metadata": {
    "collapsed": true
   },
   "outputs": [],
   "source": [
    "train_x, train_y, test_x, test_y = shuffle_data(data_x, data_y, 0.7)"
   ]
  },
  {
   "cell_type": "code",
   "execution_count": 55,
   "metadata": {
    "collapsed": true
   },
   "outputs": [],
   "source": [
    "def scikit_implementation(x, y):\n",
    "    regression_model = LinearRegression()\n",
    "    regression_model.fit(x, y)\n",
    "    return regression_model.coef_[0][0], regression_model.intercept_[0]"
   ]
  },
  {
   "cell_type": "code",
   "execution_count": 184,
   "metadata": {
    "collapsed": true
   },
   "outputs": [],
   "source": [
    "from sklearn.utils import shuffle\n",
    "from sklearn.metrics import mean_squared_error\n",
    "from scipy import stats"
   ]
  },
  {
   "cell_type": "code",
   "execution_count": 115,
   "metadata": {
    "collapsed": true
   },
   "outputs": [],
   "source": [
    "regression_model = LinearRegression()\n",
    "regression_model.fit(pd.DataFrame(data_x), pd.DataFrame(data_y))\n",
    "sc_b1, sc_b0 = regression_model.coef_[0][0], regression_model.intercept_[0]\n",
    "\n",
    "\n",
    "# R squared value\n",
    "R2 = regression_model.score(test_x, test_y)\n",
    "# MSE\n",
    "y_predict = regression_model.predict(test_x)\n",
    "regression_model_mse = mean_squared_error(y_predict, test_y)\n"
   ]
  },
  {
   "cell_type": "code",
   "execution_count": 152,
   "metadata": {
    "collapsed": true
   },
   "outputs": [],
   "source": [
    "def fill_na(mpg, column):\n",
    "    avg = 0\n",
    "    for index, row in mpg.iterrows():\n",
    "        if row[column] in '?':\n",
    "            mpg.at[index, column] = np.nan\n",
    "        else:\n",
    "            avg += (float)(mpg.at[index, column])\n",
    "    avg /= len(mpg[column])\n",
    "    return mpg.fillna({column: avg})\n",
    "\n",
    "def split_dataset(x, y, ratio=0.7):\n",
    "    size_of_set = x.shape[0]\n",
    "    size_of_train_set = int(size_of_set*ratio)\n",
    "    x_train = x.iloc[:size_of_train_set, :]\n",
    "    y_train = y.iloc[:size_of_train_set, :]\n",
    "    x_test = x.iloc[size_of_train_set:size_of_set,:]\n",
    "    y_test = y.iloc[size_of_train_set:size_of_set,:]\n",
    "\n",
    "    return x_train, y_train, x_test, y_test\n",
    "\n",
    "def get_mse(l1, l2):\n",
    "    len1 = len(l1)\n",
    "    len2 = len(l2)\n",
    "    if len1 != len2:\n",
    "        raise Exception(\"Wrong sizes\")\n",
    "    mse = 0\n",
    "    for _ in range(len1):\n",
    "        mse += (l1[_] - l2[_])**2\n",
    "    mse /= len1\n",
    "    return mse"
   ]
  },
  {
   "cell_type": "code",
   "execution_count": 204,
   "metadata": {
    "collapsed": true
   },
   "outputs": [],
   "source": [
    "mpg = pd.read_csv(\"datasets/mpg.csv\")\n",
    "# Preprocess data\n",
    "mpg = fill_na(mpg, 'horsepower')\n",
    "mpg['horsepower'] = mpg.horsepower.astype(float)\n",
    "mpg = pd.DataFrame(mpg.iloc[:, 0:5])\n",
    "mpg = shuffle(mpg)\n",
    "# Split data\n",
    "x = pd.DataFrame(mpg.iloc[:, 1:5])\n",
    "y = pd.DataFrame(mpg['mpg'])\n",
    "x_train, y_train, x_test, y_test = split_dataset(x, y, 0.7)"
   ]
  },
  {
   "cell_type": "code",
   "execution_count": 206,
   "metadata": {},
   "outputs": [
    {
     "name": "stdout",
     "output_type": "stream",
     "text": [
      "   Coefficients  Standard Errors  t values  Probabilites         Names\n",
      "0       45.7462            0.000     0.000         0.000     Intercept\n",
      "1       -0.3578            0.075    -4.759         0.000     cylinders\n",
      "2       -0.0013            0.001    -1.161         0.248  displacement\n",
      "3       -0.0387            0.003   -13.480         0.000    horsepower\n",
      "4       -0.0054            0.000   -39.480         0.000        weight\n"
     ]
    }
   ],
   "source": [
    "lm = LinearRegression()\n",
    "lm.fit(x, y)\n",
    "\n",
    "coefs = np.append(lm.intercept_,lm.coef_)\n",
    "predictions = lm.predict(x)\n",
    "mse_t = get_mse(y['mpg'].values, predictions)\n",
    "var_t = mse_t * (np.linalg.inv(np.dot(x.T, x)).diagonal())\n",
    "\n",
    "sd_b = np.sqrt(var_b)\n",
    "ts_b = coefs[1:] / sd_b\n",
    "p_values =[2*(1-stats.t.cdf(np.abs(i),(len(newX)-1))) for i in ts_b]\n",
    "\n",
    "sd_b = np.round(sd_b,3)\n",
    "ts_b = np.round(ts_b,3)\n",
    "p_values = np.round(p_values,3)\n",
    "coefs = np.round(coefs,4)\n",
    "\n",
    "sd_b = np.append([0], sd_b)\n",
    "ts_b = np.append([0], ts_b)\n",
    "p_values = np.append([0], p_values)\n",
    "names = ['Intercept', 'cylinders', 'displacement', 'horsepower', 'weight']\n",
    "\n",
    "df = pd.DataFrame()\n",
    "df[\"Coefficients\"],df[\"Standard Errors\"],df[\"t values\"],df[\"Probabilites\"], df['Names'] = [coefs,sd_b,ts_b,p_values, names]\n",
    "print(df)"
   ]
  },
  {
   "cell_type": "code",
   "execution_count": 128,
   "metadata": {},
   "outputs": [
    {
     "name": "stdout",
     "output_type": "stream",
     "text": [
      "cylinders         int64\n",
      "displacement    float64\n",
      "horsepower      float64\n",
      "weight            int64\n",
      "dtype: object\n"
     ]
    }
   ],
   "source": [
    "# cyl = pd.DataFrame(mpg['mpg'], mpg['cylinders'])\n",
    "# x = 'model_year'\n",
    "# y = 'mpg'\n",
    "# plt.scatter(mpg[x], mpg[y])\n",
    "# plt.xlabel(x)\n",
    "# plt.ylabel(y)\n",
    "# plt.show()\n",
    "# print(cylinders)\n"
   ]
  }
 ],
 "metadata": {
  "kernelspec": {
   "display_name": "Python 3",
   "language": "python",
   "name": "python3"
  },
  "language_info": {
   "codemirror_mode": {
    "name": "ipython",
    "version": 3
   },
   "file_extension": ".py",
   "mimetype": "text/x-python",
   "name": "python",
   "nbconvert_exporter": "python",
   "pygments_lexer": "ipython3",
   "version": "3.6.3"
  }
 },
 "nbformat": 4,
 "nbformat_minor": 2
}
