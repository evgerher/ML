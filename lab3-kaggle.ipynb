{
 "cells": [
  {
   "cell_type": "code",
   "execution_count": 123,
   "metadata": {},
   "outputs": [],
   "source": [
    "import matplotlib.pyplot as plt\n",
    "import pandas as pd\n",
    "import numpy as np\n",
    "import math\n",
    "from sklearn.model_selection import train_test_split\n",
    "from sklearn.linear_model import LogisticRegression\n",
    "from sklearn.metrics import accuracy_score\n",
    "from sklearn.metrics import average_precision_score\n",
    "from sklearn.preprocessing import label_binarize"
   ]
  },
  {
   "cell_type": "code",
   "execution_count": 91,
   "metadata": {},
   "outputs": [
    {
     "name": "stderr",
     "output_type": "stream",
     "text": [
      "C:\\Users\\evger\\Anaconda3\\lib\\site-packages\\IPython\\core\\interactiveshell.py:2698: DtypeWarning: Columns (13,14,15) have mixed types. Specify dtype option on import or set low_memory=False.\n",
      "  interactivity=interactivity, compiler=compiler, result=result)\n"
     ]
    }
   ],
   "source": [
    "\"\"\"\n",
    "Dataframe loaded from kaggle\n",
    "https://www.kaggle.com/kemical/kickstarter-projects#ks-projects-201612.csv\n",
    "\"\"\"\n",
    "df = pd.read_csv('datasets/ks-projects-201612.csv', encoding='cp1252')"
   ]
  },
  {
   "cell_type": "code",
   "execution_count": 92,
   "metadata": {},
   "outputs": [
    {
     "name": "stdout",
     "output_type": "stream",
     "text": [
      "ID                  int64\n",
      "name               object\n",
      "category           object\n",
      "main_category      object\n",
      "currency           object\n",
      "deadline           object\n",
      "goal               object\n",
      "launched           object\n",
      "pledged            object\n",
      "state              object\n",
      "backers            object\n",
      "country            object\n",
      "usd pledged        object\n",
      "Unnamed: 13        object\n",
      "Unnamed: 14        object\n",
      "Unnamed: 15        object\n",
      "Unnamed: 16       float64\n",
      "dtype: object\n"
     ]
    }
   ],
   "source": [
    "print(df.dtypes)"
   ]
  },
  {
   "cell_type": "code",
   "execution_count": 93,
   "metadata": {},
   "outputs": [
    {
     "name": "stderr",
     "output_type": "stream",
     "text": [
      "C:\\Users\\evger\\Anaconda3\\lib\\site-packages\\pandas\\core\\frame.py:2352: SettingWithCopyWarning: \n",
      "A value is trying to be set on a copy of a slice from a DataFrame.\n",
      "Try using .loc[row_indexer,col_indexer] = value instead\n",
      "\n",
      "See the caveats in the documentation: http://pandas.pydata.org/pandas-docs/stable/indexing.html#indexing-view-versus-copy\n",
      "  self[k1] = value[k2]\n"
     ]
    },
    {
     "name": "stdout",
     "output_type": "stream",
     "text": [
      "state    category\n",
      "dtype: object\n"
     ]
    }
   ],
   "source": [
    "# Fix namings\n",
    "df.columns = df.columns.to_series().apply(lambda x: x.strip())\n",
    "pf = df[['goal', 'main_category', 'pledged', 'backers', 'usd pledged', 'state']]\n",
    "\n",
    "# Get rid of cancelled\n",
    "pf = pf.loc[pf['state'] != 'canceled']\n",
    "pf1 = df[['goal', 'main_category', 'pledged', 'backers', 'usd pledged', 'state']]\n",
    "\n",
    "# Clear shit\n",
    "pf[['goal', 'pledged', 'backers', 'usd pledged']] = pf[['goal', 'pledged', 'backers', 'usd pledged']].apply(pd.to_numeric, errors='coerce')\n",
    "pf = pf.dropna()\n",
    "\n",
    "pf1[['goal', 'pledged', 'backers', 'usd pledged']] = pf1[['goal', 'pledged', 'backers', 'usd pledged']].apply(pd.to_numeric, errors='coerce')\n",
    "pf1 = pf1.dropna()\n",
    "\n",
    "# Find dummies and add them\n",
    "dummy = pd.get_dummies(pf['main_category'])\n",
    "pf = pd.concat([pf, dummy], axis=1)\n",
    "pf = pf.drop(['main_category'], axis=1)\n",
    "\n",
    "dummy = pd.get_dummies(pf1['main_category'])\n",
    "pf1 = pd.concat([pf1, dummy], axis=1)\n",
    "pf1 = pf1.drop(['main_category'], axis=1)\n",
    "\n",
    "# Split data\n",
    "# y = pf[['state']]\n",
    "# y = pd.get_dummies(y[['state']])\n",
    "\n",
    "# y = pd.Categorical(pf[['state']])\n",
    "pf[\"state\"] = pf[\"state\"].astype('category')\n",
    "y = pf[['state']]\n",
    "print(y.dtypes)\n",
    "x = pf.drop(['state'], axis=1)\n",
    "\n",
    "pf1[\"state\"] = pf1[\"state\"].astype('category')\n",
    "y1 = pf[['state']]\n",
    "x1 = pf.drop(['state'], axis=1)"
   ]
  },
  {
   "cell_type": "code",
   "execution_count": 111,
   "metadata": {},
   "outputs": [],
   "source": [
    "x_train, x_test, y_train, y_test = train_test_split(x, y, test_size=0.3)\n",
    "x_train1, x_test1, y_train1, y_test1 = train_test_split(x1, y1, test_size=0.3)"
   ]
  },
  {
   "cell_type": "code",
   "execution_count": 94,
   "metadata": {},
   "outputs": [
    {
     "name": "stderr",
     "output_type": "stream",
     "text": [
      "C:\\Users\\evger\\Anaconda3\\lib\\site-packages\\sklearn\\utils\\validation.py:578: DataConversionWarning: A column-vector y was passed when a 1d array was expected. Please change the shape of y to (n_samples, ), for example using ravel().\n",
      "  y = column_or_1d(y, warn=True)\n"
     ]
    }
   ],
   "source": [
    "model = LogisticRegression()\n",
    "model.fit(x_train, y_train)\n",
    "y_predicted = model.predict(x_test)\n",
    "accuracy = accuracy_score(y_test, y_predicted)"
   ]
  },
  {
   "cell_type": "code",
   "execution_count": 99,
   "metadata": {},
   "outputs": [
    {
     "name": "stderr",
     "output_type": "stream",
     "text": [
      "C:\\Users\\evger\\Anaconda3\\lib\\site-packages\\sklearn\\utils\\validation.py:578: DataConversionWarning: A column-vector y was passed when a 1d array was expected. Please change the shape of y to (n_samples, ), for example using ravel().\n",
      "  y = column_or_1d(y, warn=True)\n"
     ]
    }
   ],
   "source": [
    "model1 = LogisticRegression()\n",
    "model1.fit(x_train1, y_train1)\n",
    "y_predicted1 = model.predict(x_test1)\n",
    "accuracy1 = accuracy_score(y_test1, y_predicted1)"
   ]
  },
  {
   "cell_type": "code",
   "execution_count": 128,
   "metadata": {},
   "outputs": [
    {
     "name": "stdout",
     "output_type": "stream",
     "text": [
      "0.25009427046353894 nan\n"
     ]
    },
    {
     "name": "stderr",
     "output_type": "stream",
     "text": [
      "C:\\Users\\evger\\Anaconda3\\lib\\site-packages\\sklearn\\metrics\\ranking.py:444: RuntimeWarning: invalid value encountered in true_divide\n",
      "  recall = tps / tps[-1]\n"
     ]
    }
   ],
   "source": [
    "y_list = label_binarize(y_test['state'].tolist(), classes=['failed', 'live', 'successful', 'suspended'])\n",
    "y_list1 = label_binarize(y_test1['state'].tolist(), classes=['failed', 'live', 'successful', 'suspended', 'canceled'])\n",
    "\n",
    "y1 = label_binarize(y_predicted.tolist(), classes=['failed', 'live', 'successful', 'suspended'])\n",
    "y2 = label_binarize(y_predicted1.tolist(), classes=['failed', 'live', 'successful', 'suspended', 'canceled'])\n",
    "\n",
    "\n",
    "average_precision = average_precision_score(y_list, y1)\n",
    "average_precision1 = average_precision_score(y_list1, y2)\n",
    "print(average_precision, average_precision1)"
   ]
  },
  {
   "cell_type": "code",
   "execution_count": 127,
   "metadata": {},
   "outputs": [
    {
     "name": "stdout",
     "output_type": "stream",
     "text": [
      "0.9621017665710403 0.963007700437868\n"
     ]
    }
   ],
   "source": [
    "print(accuracy, accuracy1)"
   ]
  },
  {
   "cell_type": "code",
   "execution_count": null,
   "metadata": {
    "collapsed": true
   },
   "outputs": [],
   "source": []
  }
 ],
 "metadata": {
  "kernelspec": {
   "display_name": "Python 3",
   "language": "python",
   "name": "python3"
  },
  "language_info": {
   "codemirror_mode": {
    "name": "ipython",
    "version": 3
   },
   "file_extension": ".py",
   "mimetype": "text/x-python",
   "name": "python",
   "nbconvert_exporter": "python",
   "pygments_lexer": "ipython3",
   "version": "3.6.3"
  }
 },
 "nbformat": 4,
 "nbformat_minor": 2
}
