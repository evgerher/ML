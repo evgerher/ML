{
 "cells": [
  {
   "cell_type": "code",
   "execution_count": 3,
   "metadata": {
    "collapsed": true
   },
   "outputs": [],
   "source": [
    "# Practice most intensive PCA\n",
    "import pandas as pd\n",
    "import numpy as np\n",
    "import math\n",
    "from sklearn.model_selection import train_test_split"
   ]
  },
  {
   "cell_type": "code",
   "execution_count": 43,
   "metadata": {},
   "outputs": [
    {
     "name": "stdout",
     "output_type": "stream",
     "text": [
      "COV MATRIX\n",
      "[[ 0.68569351 -0.03926846  1.27368233  0.5169038 ]\n",
      " [-0.03926846  0.18800403 -0.32171275 -0.11798121]\n",
      " [ 1.27368233 -0.32171275  3.11317942  1.29638747]\n",
      " [ 0.5169038  -0.11798121  1.29638747  0.58241432]]\n",
      "#CORR MATRIX\n",
      "[[ 1.         -0.95957225  0.99057615  0.98463696]\n",
      " [-0.95957225  1.         -0.98626404 -0.99172367]\n",
      " [ 0.99057615 -0.98626404  1.          0.99919608]\n",
      " [ 0.98463696 -0.99172367  0.99919608  1.        ]]\n",
      "##########\n",
      "[4.22484077 0.24224357 0.07852391 0.02368303]\n",
      "[[ 0.36158968 -0.65653988 -0.58099728  0.31725455]\n",
      " [-0.08226889 -0.72971237  0.59641809 -0.32409435]\n",
      " [ 0.85657211  0.1757674   0.07252408 -0.47971899]\n",
      " [ 0.35884393  0.07470647  0.54906091  0.75112056]]\n",
      "##########\n",
      "[ 0.36158968 -0.08226889  0.85657211  0.35884393]\n",
      "0.3615896773814494\n",
      " VARIANCES \n",
      "sepal_length    0.681122\n",
      "sepal_width     0.186751\n",
      "petal_length    3.092425\n",
      "petal_width     0.578532\n",
      "dtype: float64\n"
     ]
    }
   ],
   "source": [
    "iris = pd.read_csv('datasets/iris.csv')\n",
    "x = iris[[col for col in iris.columns if col != 'species']]\n",
    "y = iris[['species']]\n",
    "# center data\n",
    "x -= x.mean(axis=0)\n",
    "# x /= len(x)\n",
    "# find cov matrix\n",
    "cov_matrix = np.cov(x.T)\n",
    "print(\"COV MATRIX\")\n",
    "print(cov_matrix)\n",
    "eig_values, eig_vectors = np.linalg.eig(cov_matrix)\n",
    "vector = eig_vectors[:, 0]\n",
    "print('#CORR MATRIX')\n",
    "corr_matrix = np.corrcoef(cov_matrix)\n",
    "print(corr_matrix)\n",
    "print('#'*10)\n",
    "\n",
    "print(eig_values)\n",
    "print(eig_vectors)\n",
    "print('#'*10)\n",
    "print(vector)\n",
    "print(eig_vectors[0, 0])\n",
    "\n",
    "total_var = 0\n",
    "print(\" VARIANCES \")\n",
    "typo = x.values\n",
    "for i in range(x.shape[0]):\n",
    "    for j in range(x.shape[1]):\n",
    "        v = typo[i, j]\n",
    "        total_var += v ** 2\n",
    "\n",
    "total_var /= len(x)\n",
    "custom_var = 0\n",
    "for i in range(len(x)):\n",
    "    row = typo[i, :]\n",
    "    custom_var += np.dot(row, vector)\n",
    "\n",
    "vv = np.var(x)\n",
    "#print(custom_var, total_var)\n",
    "#print(custom_var / total_var)\n",
    "print(vv)"
   ]
  },
  {
   "cell_type": "code",
   "execution_count": null,
   "metadata": {
    "collapsed": true
   },
   "outputs": [],
   "source": [
    "\n"
   ]
  },
  {
   "cell_type": "code",
   "execution_count": null,
   "metadata": {
    "collapsed": true
   },
   "outputs": [],
   "source": []
  }
 ],
 "metadata": {
  "kernelspec": {
   "display_name": "Python 3",
   "language": "python",
   "name": "python3"
  },
  "language_info": {
   "codemirror_mode": {
    "name": "ipython",
    "version": 3
   },
   "file_extension": ".py",
   "mimetype": "text/x-python",
   "name": "python",
   "nbconvert_exporter": "python",
   "pygments_lexer": "ipython3",
   "version": "3.6.3"
  }
 },
 "nbformat": 4,
 "nbformat_minor": 2
}
