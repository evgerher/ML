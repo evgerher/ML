{
 "cells": [
  {
   "cell_type": "code",
   "execution_count": 4,
   "metadata": {
    "collapsed": true
   },
   "outputs": [],
   "source": [
    "import numpy as np\n",
    "import matplotlib.pyplot as plt\n",
    "\n",
    "from sklearn import decomposition\n",
    "from sklearn import datasets"
   ]
  },
  {
   "cell_type": "code",
   "execution_count": 5,
   "metadata": {
    "collapsed": true
   },
   "outputs": [],
   "source": [
    "### 1 GENERATE DATA\n",
    "iris = None\n",
    "iris = datasets.load_iris()\n",
    "### Pay attention that \"X\" is a (150, 4) shape matrix\n",
    "### y is a (150,) shape array\n",
    "X = iris.data\n",
    "y = iris.target"
   ]
  },
  {
   "cell_type": "code",
   "execution_count": 10,
   "metadata": {
    "collapsed": true
   },
   "outputs": [],
   "source": [
    "def center_values(matrix, columns):\n",
    "    centered = np.copy(matrix)\n",
    "    means = [0] * columns\n",
    "    for row in centered:\n",
    "        for i in range(columns):\n",
    "            means[i] += row[i]\n",
    "    means = [x / len(centered) for x in means]\n",
    "    for i in range(len(centered)):\n",
    "        for j in range(len(matrix[i])):\n",
    "            centered[i][j] -= means[j]\n",
    "    \n",
    "    return centered, means\n",
    "\n",
    "def covariance_matrix(A, B):\n",
    "    m1 = len(A)\n",
    "    m2 = len(B)\n",
    "    n1 = len(A[0])\n",
    "    n2 = len(B[0])\n",
    "    if n1 != m2:\n",
    "        raise Exception(\"Incorrect dimensions n1[{}] != m2[{}]\".format(n1, m2))\n",
    "    COV = np.zeros((m1, n2))\n",
    "    for i in range(m1):\n",
    "        for j in range(n2):\n",
    "            for k in range(m2):\n",
    "                COV[i, j] += A[i, k] * B[k, j]\n",
    "    COV /= n1\n",
    "    return COV\n",
    "\n",
    "def visualize(x, y, title=''):\n",
    "    plt.title(title)\n",
    "    plt.plot(x[y == 0, 0], -x[y == 0, 1], 'bo', label='Setosa')\n",
    "    plt.plot(x[y == 1, 0], -x[y == 1, 1], 'go', label='Versicolour')\n",
    "    plt.plot(x[y == 2, 0], -x[y == 2, 1], 'ro', label='Virginica')\n",
    "    plt.legend(loc=0)\n",
    "    plt.show()"
   ]
  },
  {
   "cell_type": "code",
   "execution_count": 14,
   "metadata": {},
   "outputs": [
    {
     "name": "stdout",
     "output_type": "stream",
     "text": [
      "-1.3263464400855204e-15\n"
     ]
    }
   ],
   "source": [
    "### 2 CENTER DATA\n",
    "X_centered, X_means = center_values(X, columns=4) \n",
    "X_centered = X_centered.T\n",
    "print(X_centered.mean())"
   ]
  },
  {
   "cell_type": "code",
   "execution_count": null,
   "metadata": {},
   "outputs": [],
   "source": []
  },
  {
   "cell_type": "code",
   "execution_count": 12,
   "metadata": {
    "scrolled": true
   },
   "outputs": [
    {
     "name": "stdout",
     "output_type": "stream",
     "text": [
      "[4.19667516 0.24062861 0.07800042 0.02352514]\n",
      "this is our 2D subspace:\n",
      " [[ 0.36158968 -0.65653988]\n",
      " [-0.08226889 -0.72971237]\n",
      " [ 0.85657211  0.1757674 ]\n",
      " [ 0.35884393  0.07470647]]\n"
     ]
    },
    {
     "data": {
      "image/png": "[encoded data removed]",
      "text/plain": [
       "<matplotlib.figure.Figure at 0x2f295960438>"
      ]
     },
     "metadata": {},
     "output_type": "display_data"
    }
   ],
   "source": [
    "### 3 PROJECT DATA\n",
    "### at first you need to get covariance matrix\n",
    "### Pay attention that cov_mat should be a (4, 4) shape matrix\n",
    "cov_mat = covariance_matrix(X_centered, X_centered.T)\n",
    "# cov_mat = np.cov(X_centered)\n",
    "### next step you need to find eigenvalues and eigenvectors of covariance matrix\n",
    "eig_values, eig_vectors = np.linalg.eig(cov_mat)\n",
    "print(eig_values)\n",
    "### find out which eigenvectors you should choose based on eigenvalues\n",
    "index_1 = 0\n",
    "index_2 = 1\n",
    "print(f\"this is our 2D subspace:\\n {eig_vectors[:, [index_1,index_2]]}\")\n",
    "### now we can project our data to this 2D subspace\n",
    "### project original data on chosen eigenvectors\n",
    "selected_vectors = eig_vectors[:,[index_1, index_2]]\n",
    "projected_data = np.dot(X_centered.T, selected_vectors)\n",
    "### now you are able to visualize projected data\n",
    "### you should get excactly the same picture as in the last lab slide\n",
    "visualize(projected_data, y, title='Projected onto 2-dim space')"
   ]
  },
  {
   "cell_type": "code",
   "execution_count": 9,
   "metadata": {
    "scrolled": true
   },
   "outputs": [
    {
     "ename": "NameError",
     "evalue": "name 'restored_data' is not defined",
     "output_type": "error",
     "traceback": [
      "\u001b[1;31m---------------------------------------------------------------------------\u001b[0m",
      "\u001b[1;31mNameError\u001b[0m                                 Traceback (most recent call last)",
      "\u001b[1;32m<ipython-input-9-14866c53ee1c>\u001b[0m in \u001b[0;36m<module>\u001b[1;34m()\u001b[0m\n\u001b[0;32m      4\u001b[0m \u001b[1;31m### and we have a 2D subspace \"eig_vectors[:, [index_1, index_2]]\" which shape is (4,2)\u001b[0m\u001b[1;33m\u001b[0m\u001b[1;33m\u001b[0m\u001b[0m\n\u001b[0;32m      5\u001b[0m \u001b[1;31m### how to recieve a restored data with shape (4,150)?\u001b[0m\u001b[1;33m\u001b[0m\u001b[1;33m\u001b[0m\u001b[0m\n\u001b[1;32m----> 6\u001b[1;33m \u001b[1;32mfor\u001b[0m \u001b[0mi\u001b[0m \u001b[1;32min\u001b[0m \u001b[0mrange\u001b[0m\u001b[1;33m(\u001b[0m\u001b[0mlen\u001b[0m\u001b[1;33m(\u001b[0m\u001b[0mrestored_data\u001b[0m\u001b[1;33m[\u001b[0m\u001b[1;36m0\u001b[0m\u001b[1;33m]\u001b[0m\u001b[1;33m)\u001b[0m\u001b[1;33m)\u001b[0m\u001b[1;33m:\u001b[0m\u001b[1;33m\u001b[0m\u001b[0m\n\u001b[0m\u001b[0;32m      7\u001b[0m     \u001b[0mrestored_data\u001b[0m\u001b[1;33m[\u001b[0m\u001b[1;33m:\u001b[0m\u001b[1;33m,\u001b[0m \u001b[0mi\u001b[0m\u001b[1;33m]\u001b[0m \u001b[1;33m+=\u001b[0m \u001b[0mX_means\u001b[0m\u001b[1;33m[\u001b[0m\u001b[0mi\u001b[0m\u001b[1;33m]\u001b[0m\u001b[1;33m\u001b[0m\u001b[0m\n\u001b[0;32m      8\u001b[0m \u001b[1;33m\u001b[0m\u001b[0m\n",
      "\u001b[1;31mNameError\u001b[0m: name 'restored_data' is not defined"
     ]
    }
   ],
   "source": [
    "\n",
    "### 4 RESTORE DATA\n",
    "### we have a \"projected_data\" which shape is (2,150)\n",
    "### and we have a 2D subspace \"eig_vectors[:, [index_1, index_2]]\" which shape is (4,2)\n",
    "### how to recieve a restored data with shape (4,150)?\n",
    "for i in range(len(restored_data[0])):\n",
    "    restored_data[:, i] += X_means[i]\n",
    "\n",
    "visualize(restored_data, y, title='Restored dataset')\n",
    "visualize(X, y, title='Original')\n",
    "### I suppose the difference is because of accuracy of float numbers, in the dataset it is 1 digit after comma."
   ]
  },
  {
   "cell_type": "code",
   "execution_count": null,
   "metadata": {
    "collapsed": true
   },
   "outputs": [],
   "source": []
  },
  {
   "cell_type": "code",
   "execution_count": 187,
   "metadata": {},
   "outputs": [
    {
     "data": {
      "image/png": "[encoded data removed]",
      "text/plain": [
       "<matplotlib.figure.Figure at 0x260c8610208>"
      ]
     },
     "metadata": {},
     "output_type": "display_data"
    }
   ],
   "source": [
    "\n",
    "############################################\n",
    "### CONGRATS YOU ARE DONE WITH THE FIRST PART ###\n",
    "############################################\n",
    "\n",
    "### 1 GENERATE DATA\n",
    "### already is done\n",
    "\n",
    "### 2 CENTER DATA\n",
    "### already is done\n",
    "\n",
    "### 3 PROJECT DATA\n",
    "### \"n_components\" show how many dimensions should we project our data on \n",
    "pca = decomposition.PCA(n_components=2)\n",
    "### class method \"fit\" for our centered data\n",
    "pca.fit(X_centered.T)\n",
    "### make a projection\n",
    "X_pca = pca.transform(X_centered.T)\n",
    "### now we can plot our data and compare with what should we get\n",
    "plt.title('PCA')\n",
    "plt.plot(X_pca[y == 0, 0], X_pca[y == 0, 1], 'bo', label='Setosa')\n",
    "plt.plot(X_pca[y == 1, 0], X_pca[y == 1, 1], 'go', label='Versicolour')\n",
    "plt.plot(X_pca[y == 2, 0], X_pca[y == 2, 1], 'ro', label='Virginica')\n",
    "plt.legend(loc=0)\n",
    "plt.show()"
   ]
  },
  {
   "cell_type": "code",
   "execution_count": 129,
   "metadata": {},
   "outputs": [
    {
     "name": "stdout",
     "output_type": "stream",
     "text": [
      "[[1 2]\n",
      " [3 4]\n",
      " [5 6]]\n",
      "Test A : [[1 2]\n",
      " [3 4]\n",
      " [5 6]]\n",
      "Test B : [3 4]\n"
     ]
    }
   ],
   "source": [
    "test = np.array([[1, 2], [3, 4], [5, 6]])\n",
    "print(test)\n",
    "print(\"Get column : {}\".format(test[:,[0,1]]))\n",
    "print(\"Get row : {}\".format(test[1,:]))\n",
    "\n"
   ]
  },
  {
   "cell_type": "code",
   "execution_count": null,
   "metadata": {
    "collapsed": true
   },
   "outputs": [],
   "source": []
  }
 ],
 "metadata": {
  "kernelspec": {
   "display_name": "Python 3",
   "language": "python",
   "name": "python3"
  },
  "language_info": {
   "codemirror_mode": {
    "name": "ipython",
    "version": 3
   },
   "file_extension": ".py",
   "mimetype": "text/x-python",
   "name": "python",
   "nbconvert_exporter": "python",
   "pygments_lexer": "ipython3",
   "version": "3.6.3"
  }
 },
 "nbformat": 4,
 "nbformat_minor": 2
}
