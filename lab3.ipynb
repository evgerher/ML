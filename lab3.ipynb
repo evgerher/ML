{
 "cells": [
  {
   "cell_type": "code",
   "execution_count": 18,
   "metadata": {
    "collapsed": true
   },
   "outputs": [],
   "source": [
    "import matplotlib.pyplot as plt\n",
    "import pandas as pd\n",
    "import numpy as np\n",
    "import sklearn as sk\n",
    "import math"
   ]
  },
  {
   "cell_type": "code",
   "execution_count": 116,
   "metadata": {
    "collapsed": true
   },
   "outputs": [],
   "source": [
    "def split_data(x, y, ratio):\n",
    "    i1 = len(x)\n",
    "    i2 = len(y)\n",
    "    x_test, y_test, x_train, y_train = [], [], [], []\n",
    "    if i1 != i2:\n",
    "        raise Exception(\"Incorrect dimensions\")\n",
    "    for _ in range(i1):\n",
    "        if random.random() > ratio:\n",
    "            x_test.append(x[_])\n",
    "            y_test.append(y[_])\n",
    "        else:\n",
    "            x_train.append(x[_])\n",
    "            y_train.append(y[_])\n",
    "            \n",
    "    return x_train, y_train, x_test, y_test\n",
    "\n",
    "\"\"\"\n",
    "Logistic regression function\n",
    "\"\"\"\n",
    "def p(x, b0, b1):\n",
    "    return math.exp(b0 + b1 * x) / (1 + math.exp(b0 + b1 * x))\n",
    "\n",
    "def logistic_gradient_descent(x, y, alfa=0.03, stop=10, debug=False, iter_limit=5000):\n",
    "    \"\"\"\n",
    "    input:\n",
    "    x, y - data features\n",
    "    \n",
    "    output:\n",
    "    b1, b0 - predicted parameters of data\n",
    "    \"\"\"\n",
    "        \n",
    "    \"\"\"\n",
    "    Logistic regression cost function\n",
    "    \"\"\"\n",
    "    def L(x, y, b0, b1):\n",
    "        val = p(x, b0, b1)\n",
    "        return -y * math.log(val) - (1 - y) * math.log(1 - val)\n",
    "        \n",
    "    def cost_function(x, y, b0, b1, n):\n",
    "        error = 0\n",
    "        for _ in range(n):\n",
    "            error += L(x[_], y[_], b0, b1)\n",
    "        return error / n\n",
    "    \n",
    "    def derived_vals(x, y, b0, b1, n):\n",
    "        derive_b0 = 0\n",
    "        derive_b1 = 0\n",
    "        for _ in range(n):\n",
    "            val = p(x[_], b0, b1) - y[_]\n",
    "            derive_b0 += val\n",
    "            derive_b1 += x[_] * val\n",
    "        derive_b0 /= n\n",
    "        derive_b1 /= n\n",
    "        \n",
    "        return derive_b0, derive_b1\n",
    "    \n",
    "    x_vals, y_vals = [], []\n",
    "    print(\"#\"*10)\n",
    "    print(\"Gradient descent starts execution\")\n",
    "    N = len(x)\n",
    "    b0, b1, b1_best, b0_best = 0, 0, 0, 0\n",
    "    error_new = cost_function(x, y, b0, b1, N)\n",
    "    error_min = error_new\n",
    "    error_old = 0\n",
    "    iteration = 0\n",
    "    while (math.fabs(error_new) > stop and iteration < iter_limit):\n",
    "        derived_b0, derived_b1 = derived_vals(x, y, b0, b1, N)\n",
    "        if error_new - error_old > 10000:\n",
    "            raise Exception('Wrong param alfa')\n",
    "        b1 -= alfa * derived_b1\n",
    "        b0 -= alfa * derived_b0\n",
    "        error_old = error_new\n",
    "        error_new = cost_function(x, y, b0, b1, N)\n",
    "        if error_min > error_new:\n",
    "            error_min = error_new\n",
    "            b1_best = b1\n",
    "            b0_best = b0\n",
    "        if iteration % 1000 == 0:\n",
    "#             alfa *= 0.95\n",
    "            if debug:\n",
    "                print(\"iteration {}, old MSE = {}, new MSE = {} :: b0 = {} , b1 = {}\".format(iteration, error_old, error_new, b0, b1))\n",
    "        iteration += 1    \n",
    "    print(\"End of gradient descent execution\")\n",
    "    print(\"#\"*10)\n",
    "    return b1_best, b0_best\n"
   ]
  },
  {
   "cell_type": "code",
   "execution_count": 105,
   "metadata": {},
   "outputs": [],
   "source": [
    "iris = pd.read_csv('datasets/iris.csv')\n",
    "\n",
    "# Preprocess dataframe\n",
    "one_feature = iris[['sepal_width', 'species']]\n",
    "of = one_feature.loc[one_feature['species'] != 'virginica']\n",
    "features = of[['sepal_width']]\n",
    "\n",
    "# Transform to numeric\n",
    "features = features[['sepal_width']].apply(pd.to_numeric)\n",
    "target = of[['species']]\n",
    "\n",
    "# Class 1 and 0\n",
    "target = target.replace('setosa', 1)\n",
    "target = target.replace('versicolor', 0)\n",
    "\n",
    "# Transform to numeric\n",
    "target = target[['species']].apply(pd.to_numeric)\n",
    "\n",
    "## Shuffle\n",
    "X, Y = sk.utils.shuffle(features.values, target.values, random_state=0)\n",
    "\n",
    "## Split \n",
    "x_train, y_train, x_test, y_test = split_data(X, Y, ratio=0.8)"
   ]
  },
  {
   "cell_type": "code",
   "execution_count": 117,
   "metadata": {},
   "outputs": [
    {
     "name": "stdout",
     "output_type": "stream",
     "text": [
      "##########\n",
      "Gradient descent starts execution\n",
      "iteration 0, old MSE = [0.69314718], new MSE = [0.70848965] :: b0 = [-0.00823529] , b1 = [0.18611765]\n",
      "iteration 1000, old MSE = [0.40866304], new MSE = [0.40871373] :: b0 = [-17.03457552] , b1 = [5.6147403]\n",
      "iteration 2000, old MSE = [0.40497579], new MSE = [0.40497573] :: b0 = [-17.54335717] , b1 = [5.70517483]\n",
      "iteration 3000, old MSE = [0.40494585], new MSE = [0.40494584] :: b0 = [-17.73166785] , b1 = [5.76616086]\n",
      "iteration 4000, old MSE = [0.40494097], new MSE = [0.40494096] :: b0 = [-17.80781177] , b1 = [5.79082155]\n",
      "iteration 5000, old MSE = [0.40494015], new MSE = [0.40494015] :: b0 = [-17.83888236] , b1 = [5.80088449]\n",
      "iteration 6000, old MSE = [0.40494002], new MSE = [0.40494002] :: b0 = [-17.85160731] , b1 = [5.80500579]\n",
      "iteration 7000, old MSE = [0.40493999], new MSE = [0.40493999] :: b0 = [-17.8568266] , b1 = [5.8066962]\n",
      "iteration 8000, old MSE = [0.40493999], new MSE = [0.40493999] :: b0 = [-17.85896867] , b1 = [5.80738996]\n",
      "iteration 9000, old MSE = [0.40493999], new MSE = [0.40493999] :: b0 = [-17.85984802] , b1 = [5.80767476]\n",
      "iteration 10000, old MSE = [0.40493999], new MSE = [0.40493999] :: b0 = [-17.86020905] , b1 = [5.80779169]\n",
      "iteration 11000, old MSE = [0.40493999], new MSE = [0.40493999] :: b0 = [-17.86035728] , b1 = [5.8078397]\n",
      "iteration 12000, old MSE = [0.40493999], new MSE = [0.40493999] :: b0 = [-17.86041814] , b1 = [5.80785941]\n",
      "iteration 13000, old MSE = [0.40493999], new MSE = [0.40493999] :: b0 = [-17.86044313] , b1 = [5.8078675]\n",
      "iteration 14000, old MSE = [0.40493999], new MSE = [0.40493999] :: b0 = [-17.86045339] , b1 = [5.80787083]\n",
      "iteration 15000, old MSE = [0.40493999], new MSE = [0.40493999] :: b0 = [-17.8604576] , b1 = [5.80787219]\n",
      "iteration 16000, old MSE = [0.40493999], new MSE = [0.40493999] :: b0 = [-17.86045933] , b1 = [5.80787275]\n",
      "iteration 17000, old MSE = [0.40493999], new MSE = [0.40493999] :: b0 = [-17.86046004] , b1 = [5.80787298]\n",
      "iteration 18000, old MSE = [0.40493999], new MSE = [0.40493999] :: b0 = [-17.86046033] , b1 = [5.80787308]\n",
      "iteration 19000, old MSE = [0.40493999], new MSE = [0.40493999] :: b0 = [-17.86046045] , b1 = [5.80787311]\n",
      "iteration 20000, old MSE = [0.40493999], new MSE = [0.40493999] :: b0 = [-17.8604605] , b1 = [5.80787313]\n",
      "iteration 21000, old MSE = [0.40493999], new MSE = [0.40493999] :: b0 = [-17.86046052] , b1 = [5.80787314]\n",
      "iteration 22000, old MSE = [0.40493999], new MSE = [0.40493999] :: b0 = [-17.86046053] , b1 = [5.80787314]\n",
      "iteration 23000, old MSE = [0.40493999], new MSE = [0.40493999] :: b0 = [-17.86046053] , b1 = [5.80787314]\n",
      "iteration 24000, old MSE = [0.40493999], new MSE = [0.40493999] :: b0 = [-17.86046053] , b1 = [5.80787314]\n",
      "iteration 25000, old MSE = [0.40493999], new MSE = [0.40493999] :: b0 = [-17.86046053] , b1 = [5.80787314]\n",
      "iteration 26000, old MSE = [0.40493999], new MSE = [0.40493999] :: b0 = [-17.86046053] , b1 = [5.80787314]\n",
      "iteration 27000, old MSE = [0.40493999], new MSE = [0.40493999] :: b0 = [-17.86046053] , b1 = [5.80787314]\n",
      "iteration 28000, old MSE = [0.40493999], new MSE = [0.40493999] :: b0 = [-17.86046053] , b1 = [5.80787314]\n",
      "iteration 29000, old MSE = [0.40493999], new MSE = [0.40493999] :: b0 = [-17.86046053] , b1 = [5.80787314]\n",
      "iteration 30000, old MSE = [0.40493999], new MSE = [0.40493999] :: b0 = [-17.86046053] , b1 = [5.80787314]\n",
      "iteration 31000, old MSE = [0.40493999], new MSE = [0.40493999] :: b0 = [-17.86046053] , b1 = [5.80787314]\n",
      "iteration 32000, old MSE = [0.40493999], new MSE = [0.40493999] :: b0 = [-17.86046053] , b1 = [5.80787314]\n",
      "iteration 33000, old MSE = [0.40493999], new MSE = [0.40493999] :: b0 = [-17.86046053] , b1 = [5.80787314]\n",
      "iteration 34000, old MSE = [0.40493999], new MSE = [0.40493999] :: b0 = [-17.86046053] , b1 = [5.80787314]\n",
      "iteration 35000, old MSE = [0.40493999], new MSE = [0.40493999] :: b0 = [-17.86046053] , b1 = [5.80787314]\n",
      "iteration 36000, old MSE = [0.40493999], new MSE = [0.40493999] :: b0 = [-17.86046053] , b1 = [5.80787314]\n",
      "iteration 37000, old MSE = [0.40493999], new MSE = [0.40493999] :: b0 = [-17.86046053] , b1 = [5.80787314]\n",
      "iteration 38000, old MSE = [0.40493999], new MSE = [0.40493999] :: b0 = [-17.86046053] , b1 = [5.80787314]\n",
      "iteration 39000, old MSE = [0.40493999], new MSE = [0.40493999] :: b0 = [-17.86046053] , b1 = [5.80787314]\n",
      "iteration 40000, old MSE = [0.40493999], new MSE = [0.40493999] :: b0 = [-17.86046053] , b1 = [5.80787314]\n",
      "iteration 41000, old MSE = [0.40493999], new MSE = [0.40493999] :: b0 = [-17.86046053] , b1 = [5.80787314]\n",
      "iteration 42000, old MSE = [0.40493999], new MSE = [0.40493999] :: b0 = [-17.86046053] , b1 = [5.80787314]\n",
      "iteration 43000, old MSE = [0.40493999], new MSE = [0.40493999] :: b0 = [-17.86046053] , b1 = [5.80787314]\n",
      "iteration 44000, old MSE = [0.40493999], new MSE = [0.40493999] :: b0 = [-17.86046053] , b1 = [5.80787314]\n",
      "iteration 45000, old MSE = [0.40493999], new MSE = [0.40493999] :: b0 = [-17.86046053] , b1 = [5.80787314]\n",
      "iteration 46000, old MSE = [0.40493999], new MSE = [0.40493999] :: b0 = [-17.86046053] , b1 = [5.80787314]\n",
      "iteration 47000, old MSE = [0.40493999], new MSE = [0.40493999] :: b0 = [-17.86046053] , b1 = [5.80787314]\n",
      "iteration 48000, old MSE = [0.40493999], new MSE = [0.40493999] :: b0 = [-17.86046053] , b1 = [5.80787314]\n",
      "iteration 49000, old MSE = [0.40493999], new MSE = [0.40493999] :: b0 = [-17.86046053] , b1 = [5.80787314]\n",
      "iteration 50000, old MSE = [0.40493999], new MSE = [0.40493999] :: b0 = [-17.86046053] , b1 = [5.80787314]\n",
      "iteration 51000, old MSE = [0.40493999], new MSE = [0.40493999] :: b0 = [-17.86046053] , b1 = [5.80787314]\n",
      "iteration 52000, old MSE = [0.40493999], new MSE = [0.40493999] :: b0 = [-17.86046053] , b1 = [5.80787314]\n",
      "iteration 53000, old MSE = [0.40493999], new MSE = [0.40493999] :: b0 = [-17.86046053] , b1 = [5.80787314]\n",
      "iteration 54000, old MSE = [0.40493999], new MSE = [0.40493999] :: b0 = [-17.86046053] , b1 = [5.80787314]\n",
      "iteration 55000, old MSE = [0.40493999], new MSE = [0.40493999] :: b0 = [-17.86046053] , b1 = [5.80787314]\n",
      "iteration 56000, old MSE = [0.40493999], new MSE = [0.40493999] :: b0 = [-17.86046053] , b1 = [5.80787314]\n",
      "iteration 57000, old MSE = [0.40493999], new MSE = [0.40493999] :: b0 = [-17.86046053] , b1 = [5.80787314]\n",
      "iteration 58000, old MSE = [0.40493999], new MSE = [0.40493999] :: b0 = [-17.86046053] , b1 = [5.80787314]\n",
      "iteration 59000, old MSE = [0.40493999], new MSE = [0.40493999] :: b0 = [-17.86046053] , b1 = [5.80787314]\n",
      "iteration 60000, old MSE = [0.40493999], new MSE = [0.40493999] :: b0 = [-17.86046053] , b1 = [5.80787314]\n",
      "iteration 61000, old MSE = [0.40493999], new MSE = [0.40493999] :: b0 = [-17.86046053] , b1 = [5.80787314]\n",
      "iteration 62000, old MSE = [0.40493999], new MSE = [0.40493999] :: b0 = [-17.86046053] , b1 = [5.80787314]\n",
      "iteration 63000, old MSE = [0.40493999], new MSE = [0.40493999] :: b0 = [-17.86046053] , b1 = [5.80787314]\n",
      "iteration 64000, old MSE = [0.40493999], new MSE = [0.40493999] :: b0 = [-17.86046053] , b1 = [5.80787314]\n",
      "iteration 65000, old MSE = [0.40493999], new MSE = [0.40493999] :: b0 = [-17.86046053] , b1 = [5.80787314]\n",
      "iteration 66000, old MSE = [0.40493999], new MSE = [0.40493999] :: b0 = [-17.86046053] , b1 = [5.80787314]\n",
      "iteration 67000, old MSE = [0.40493999], new MSE = [0.40493999] :: b0 = [-17.86046053] , b1 = [5.80787314]\n",
      "iteration 68000, old MSE = [0.40493999], new MSE = [0.40493999] :: b0 = [-17.86046053] , b1 = [5.80787314]\n",
      "iteration 69000, old MSE = [0.40493999], new MSE = [0.40493999] :: b0 = [-17.86046053] , b1 = [5.80787314]\n",
      "iteration 70000, old MSE = [0.40493999], new MSE = [0.40493999] :: b0 = [-17.86046053] , b1 = [5.80787314]\n",
      "iteration 71000, old MSE = [0.40493999], new MSE = [0.40493999] :: b0 = [-17.86046053] , b1 = [5.80787314]\n",
      "iteration 72000, old MSE = [0.40493999], new MSE = [0.40493999] :: b0 = [-17.86046053] , b1 = [5.80787314]\n",
      "iteration 73000, old MSE = [0.40493999], new MSE = [0.40493999] :: b0 = [-17.86046053] , b1 = [5.80787314]\n",
      "iteration 74000, old MSE = [0.40493999], new MSE = [0.40493999] :: b0 = [-17.86046053] , b1 = [5.80787314]\n",
      "iteration 75000, old MSE = [0.40493999], new MSE = [0.40493999] :: b0 = [-17.86046053] , b1 = [5.80787314]\n",
      "iteration 76000, old MSE = [0.40493999], new MSE = [0.40493999] :: b0 = [-17.86046053] , b1 = [5.80787314]\n"
     ]
    },
    {
     "name": "stdout",
     "output_type": "stream",
     "text": [
      "iteration 77000, old MSE = [0.40493999], new MSE = [0.40493999] :: b0 = [-17.86046053] , b1 = [5.80787314]\n",
      "iteration 78000, old MSE = [0.40493999], new MSE = [0.40493999] :: b0 = [-17.86046053] , b1 = [5.80787314]\n",
      "iteration 79000, old MSE = [0.40493999], new MSE = [0.40493999] :: b0 = [-17.86046053] , b1 = [5.80787314]\n",
      "iteration 80000, old MSE = [0.40493999], new MSE = [0.40493999] :: b0 = [-17.86046053] , b1 = [5.80787314]\n",
      "iteration 81000, old MSE = [0.40493999], new MSE = [0.40493999] :: b0 = [-17.86046053] , b1 = [5.80787314]\n",
      "iteration 82000, old MSE = [0.40493999], new MSE = [0.40493999] :: b0 = [-17.86046053] , b1 = [5.80787314]\n",
      "iteration 83000, old MSE = [0.40493999], new MSE = [0.40493999] :: b0 = [-17.86046053] , b1 = [5.80787314]\n",
      "iteration 84000, old MSE = [0.40493999], new MSE = [0.40493999] :: b0 = [-17.86046053] , b1 = [5.80787314]\n",
      "iteration 85000, old MSE = [0.40493999], new MSE = [0.40493999] :: b0 = [-17.86046053] , b1 = [5.80787314]\n",
      "iteration 86000, old MSE = [0.40493999], new MSE = [0.40493999] :: b0 = [-17.86046053] , b1 = [5.80787314]\n",
      "iteration 87000, old MSE = [0.40493999], new MSE = [0.40493999] :: b0 = [-17.86046053] , b1 = [5.80787314]\n",
      "iteration 88000, old MSE = [0.40493999], new MSE = [0.40493999] :: b0 = [-17.86046053] , b1 = [5.80787314]\n",
      "iteration 89000, old MSE = [0.40493999], new MSE = [0.40493999] :: b0 = [-17.86046053] , b1 = [5.80787314]\n",
      "iteration 90000, old MSE = [0.40493999], new MSE = [0.40493999] :: b0 = [-17.86046053] , b1 = [5.80787314]\n",
      "iteration 91000, old MSE = [0.40493999], new MSE = [0.40493999] :: b0 = [-17.86046053] , b1 = [5.80787314]\n",
      "iteration 92000, old MSE = [0.40493999], new MSE = [0.40493999] :: b0 = [-17.86046053] , b1 = [5.80787314]\n",
      "iteration 93000, old MSE = [0.40493999], new MSE = [0.40493999] :: b0 = [-17.86046053] , b1 = [5.80787314]\n",
      "iteration 94000, old MSE = [0.40493999], new MSE = [0.40493999] :: b0 = [-17.86046053] , b1 = [5.80787314]\n",
      "iteration 95000, old MSE = [0.40493999], new MSE = [0.40493999] :: b0 = [-17.86046053] , b1 = [5.80787314]\n",
      "iteration 96000, old MSE = [0.40493999], new MSE = [0.40493999] :: b0 = [-17.86046053] , b1 = [5.80787314]\n",
      "iteration 97000, old MSE = [0.40493999], new MSE = [0.40493999] :: b0 = [-17.86046053] , b1 = [5.80787314]\n",
      "iteration 98000, old MSE = [0.40493999], new MSE = [0.40493999] :: b0 = [-17.86046053] , b1 = [5.80787314]\n",
      "iteration 99000, old MSE = [0.40493999], new MSE = [0.40493999] :: b0 = [-17.86046053] , b1 = [5.80787314]\n",
      "End of gradient descent execution\n",
      "##########\n"
     ]
    }
   ],
   "source": [
    "gd_b0, gd_b1 = logistic_gradient_descent(x_train, y_train, alfa=1.4, stop=1e-5, debug=True, iter_limit=100000)"
   ]
  },
  {
   "cell_type": "code",
   "execution_count": 109,
   "metadata": {
    "collapsed": true
   },
   "outputs": [],
   "source": [
    "def animate(data_x, data_y, GD):\n",
    "    plt.scatter(data_x, data_y)\n",
    "    gd_b1, gd_b0 = GD[0], GD[1]\n",
    "    plt.plot(sorted(data_x),\n",
    "             [p(_, gd_b0, gd_b1) for _ in sorted(data_x)],\n",
    "             c=\"b\", linewidth=2, label='Logistic Gradient descent')\n",
    "    plt.legend()\n",
    "    plt.show()"
   ]
  },
  {
   "cell_type": "code",
   "execution_count": 110,
   "metadata": {},
   "outputs": [
    {
     "data": {
      "image/png": "[encoded data removed]",
      "text/plain": [
       "<matplotlib.figure.Figure at 0x194ab4947b8>"
      ]
     },
     "metadata": {},
     "output_type": "display_data"
    },
    {
     "data": {
      "image/png": "[encoded data removed]",
      "text/plain": [
       "<matplotlib.figure.Figure at 0x194ab4efbe0>"
      ]
     },
     "metadata": {},
     "output_type": "display_data"
    }
   ],
   "source": [
    "animate(x_train, y_train, (gd_b0, gd_b1))\n",
    "animate(x_test, y_test, (gd_b0, gd_b1))"
   ]
  },
  {
   "cell_type": "code",
   "execution_count": 111,
   "metadata": {
    "collapsed": true
   },
   "outputs": [],
   "source": [
    "def predict(x, b0, b1, threshold):\n",
    "    predicted = []\n",
    "    for _ in x:\n",
    "        value = p(_, b0, b1)\n",
    "        print(value)\n",
    "        predicted.append(value > threshold)\n",
    "    return predicted"
   ]
  },
  {
   "cell_type": "code",
   "execution_count": 112,
   "metadata": {
    "collapsed": true
   },
   "outputs": [],
   "source": [
    "from sklearn.metrics import accuracy_score"
   ]
  },
  {
   "cell_type": "code",
   "execution_count": 114,
   "metadata": {},
   "outputs": [
    {
     "name": "stdout",
     "output_type": "stream",
     "text": [
      "1.4228963883093807e-24\n",
      "3.0187674975875797e-22\n",
      "5.0614801261242114e-23\n",
      "1.8004530250856388e-21\n",
      "4.833332816224282e-16\n",
      "1.8854396233384146e-28\n",
      "6.404512148153507e-20\n",
      "6.404512148153507e-20\n",
      "1.8004530250856388e-21\n",
      "4.833332816224282e-16\n",
      "2.278191948601093e-18\n",
      "1.8004530250856388e-21\n",
      "1.4228963883093807e-24\n",
      "3.0187674975875797e-22\n",
      "4.000083140530276e-26\n",
      "1.4228963883093807e-24\n",
      "8.8870217152117e-31\n",
      "1.0738260227495246e-20\n",
      "2.3857292079357653e-25\n",
      "3.0187674975875797e-22\n",
      "6.404512148153507e-20\n",
      "1.8004530250856388e-21\n",
      "1.4228963883093807e-24\n",
      "3.8197785290041494e-19\n",
      "6.404512148153507e-20\n",
      "1.0254230828413176e-13\n",
      "8.10390929802087e-17\n",
      "2.278191948601093e-18\n",
      "2.8826959006186764e-15\n",
      "5.0614801261242114e-23\n",
      "2.3857292079357653e-25\n",
      "1.1245137216326862e-27\n",
      "8.48643729191579e-24\n",
      "1.0738260227495246e-20\n",
      "1.8004530250856388e-21\n",
      "1.8004530250856388e-21\n",
      "5.0614801261242114e-23\n",
      "4.833332816224282e-16\n",
      "4.000083140530276e-26\n",
      "2.4983425374199585e-32\n",
      "2.3857292079357653e-25\n",
      "1.8004530250856388e-21\n",
      "1.8854396233384146e-28\n",
      "1.8004530250856388e-21\n",
      "3.8197785290041494e-19\n",
      "3.0187674975875797e-22\n",
      "1.4228963883093807e-24\n",
      "5.0614801261242114e-23\n",
      "1.4228963883093807e-24\n",
      "8.48643729191579e-24\n",
      "3.0187674975875797e-22\n",
      "1.4228963883093807e-24\n",
      "1.8004530250856388e-21\n",
      "8.10390929802087e-17\n",
      "1.4228963883093807e-24\n",
      "5.300396649937952e-30\n",
      "1.8004530250856388e-21\n",
      "1.3587590262789308e-17\n",
      "5.0614801261242114e-23\n",
      "8.48643729191579e-24\n",
      "1.0738260227495246e-20\n",
      "1.3587590262789308e-17\n",
      "1.3587590262789308e-17\n",
      "1.4228963883093807e-24\n",
      "3.8197785290041494e-19\n",
      "1.3587590262789308e-17\n",
      "1.8004530250856388e-21\n",
      "1.8004530250856388e-21\n",
      "3.0187674975875797e-22\n",
      "8.10390929802087e-17\n",
      "1.1245137216326862e-27\n",
      "1.4228963883093807e-24\n",
      "3.0187674975875797e-22\n",
      "1.0738260227495246e-20\n",
      "1.8004530250856388e-21\n",
      "1.8004530250856388e-21\n",
      "5.0614801261242114e-23\n",
      "4.833332816224282e-16\n",
      "6.706823673839849e-27\n",
      "3.8197785290041494e-19\n",
      "3.0187674975875797e-22\n",
      "3.8197785290041494e-19\n",
      "1.0738260227495246e-20\n",
      "5.0614801261242114e-23\n",
      "1.1245137216326862e-27\n",
      "0.5058823529411764\n"
     ]
    }
   ],
   "source": [
    "y_predicted = predict(x_train, gd_b0, gd_b1, 0.3)\n",
    "accuracy = accuracy_score(y_train, y_predicted)\n",
    "print(accuracy)"
   ]
  },
  {
   "cell_type": "code",
   "execution_count": null,
   "metadata": {
    "collapsed": true
   },
   "outputs": [],
   "source": []
  },
  {
   "cell_type": "code",
   "execution_count": 103,
   "metadata": {
    "collapsed": true
   },
   "outputs": [],
   "source": [
    "from sklearn.model_selection import train_test_split\n",
    "from sklearn.datasets import load_iris\n",
    "from sklearn.linear_model import LogisticRegression\n",
    "from sklearn.metrics import accuracy_score"
   ]
  },
  {
   "cell_type": "code",
   "execution_count": 104,
   "metadata": {},
   "outputs": [
    {
     "name": "stdout",
     "output_type": "stream",
     "text": [
      "1.0\n"
     ]
    }
   ],
   "source": [
    "iris = load_iris()\n",
    "x = iris.data\n",
    "y = iris.target\n",
    "x_train, x_test, y_train, y_test = train_test_split(x, y, test_size=0.2)\n",
    "\n",
    "\n",
    "model = LogisticRegression()\n",
    "model.fit(x_train, y_train)\n",
    "y_pred = model.predict(x_test)\n",
    "accuracy = accuracy_score(y_pred, y_test)\n",
    "print(accuracy)"
   ]
  },
  {
   "cell_type": "code",
   "execution_count": null,
   "metadata": {
    "collapsed": true
   },
   "outputs": [],
   "source": []
  }
 ],
 "metadata": {
  "kernelspec": {
   "display_name": "Python 3",
   "language": "python",
   "name": "python3"
  },
  "language_info": {
   "codemirror_mode": {
    "name": "ipython",
    "version": 3
   },
   "file_extension": ".py",
   "mimetype": "text/x-python",
   "name": "python",
   "nbconvert_exporter": "python",
   "pygments_lexer": "ipython3",
   "version": "3.6.3"
  }
 },
 "nbformat": 4,
 "nbformat_minor": 2
}
