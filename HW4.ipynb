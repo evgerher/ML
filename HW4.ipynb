{
 "cells": [
  {
   "cell_type": "code",
   "execution_count": 1,
   "metadata": {
    "collapsed": true
   },
   "outputs": [],
   "source": [
    "from sklearn.preprocessing import StandardScaler\n",
    "from sklearn.neighbors import KNeighborsClassifier\n",
    "from sklearn.metrics import classification_report, confusion_matrix\n",
    "from sklearn.model_selection import train_test_split\n",
    "from sklearn.linear_model import Ridge, Lasso\n",
    "from sklearn.metrics import mean_squared_error\n",
    "from sklearn.model_selection import cross_val_score\n",
    "import sklearn as sk\n",
    "import pandas as pd\n",
    "import numpy as np\n",
    "import matplotlib.pyplot as plt"
   ]
  },
  {
   "cell_type": "code",
   "execution_count": 2,
   "metadata": {},
   "outputs": [
    {
     "name": "stdout",
     "output_type": "stream",
     "text": [
      "416     0\n",
      "2008    0\n",
      "1135    1\n",
      "2133    0\n",
      "59      0\n",
      "46      1\n",
      "2385    0\n",
      "696     0\n",
      "1041    1\n",
      "3958    0\n",
      "3352    0\n",
      "1136    0\n",
      "3143    0\n",
      "1104    0\n",
      "4783    0\n",
      "Name: state, dtype: int64\n"
     ]
    }
   ],
   "source": [
    "red_wine = pd.read_csv('datasets/winequality-red.csv', delimiter=';').dropna()\n",
    "white_wine = pd.read_csv('datasets/winequality-white.csv', delimiter=';').dropna()\n",
    "red_wine['state'] = 1\n",
    "white_wine['state'] = 0\n",
    "df = pd.concat([red_wine, white_wine])\n",
    "df = sk.utils.shuffle(df, random_state=0)\n",
    "df = sk.utils.shuffle(df, random_state=0)\n",
    "\n",
    "print(df['state'][0:15])"
   ]
  },
  {
   "cell_type": "code",
   "execution_count": 3,
   "metadata": {
    "collapsed": true
   },
   "outputs": [],
   "source": [
    "x = df.drop('state', axis=1)\n",
    "y = df[['state']]\n",
    "# x_train, x_test, y_train, y_test = train_test_split(x, y, test_size=0.2)"
   ]
  },
  {
   "cell_type": "code",
   "execution_count": 4,
   "metadata": {},
   "outputs": [
    {
     "name": "stdout",
     "output_type": "stream",
     "text": [
      "\n"
     ]
    }
   ],
   "source": [
    "# Feature scaling\n",
    "scaler = StandardScaler()\n",
    "scaler.fit(x)\n",
    "x = scaler.transform(x)\n",
    "# x_test = scaler.transform(x_test)\n",
    "print()"
   ]
  },
  {
   "cell_type": "code",
   "execution_count": 5,
   "metadata": {
    "collapsed": true
   },
   "outputs": [],
   "source": [
    "methods = ['uniform', 'distance']\n",
    "\n",
    "errors = {'uniform': [], 'distance': [], 'ridge': [], 'lasso': []}\n",
    "for method in methods:\n",
    "    for i in range(1, 40):\n",
    "        classifier = KNeighborsClassifier(algorithm='auto',\n",
    "                                          leaf_size=30,\n",
    "#                                           metric='mikowski',\n",
    "#                                           metric_params=None,\n",
    "                                          n_jobs=1,\n",
    "                                          n_neighbors=i,\n",
    "                                          p=2,\n",
    "                                          weights=method) # 'distance', 'uniform'\n",
    "        \n",
    "#         classifier.fit(x_train, y_train)\n",
    "#         y_pred = classifier.predict(x_test)\n",
    "        \n",
    "#         y_pred = np.array([y_pred]).T\n",
    "        \n",
    "        scores = cross_val_score(classifier, x, y['state'].values, cv=10)\n",
    "        errors[method].append(scores.mean())\n",
    "\n",
    "#         errors[method].append(np.mean(y_pred != y_test))"
   ]
  },
  {
   "cell_type": "code",
   "execution_count": 6,
   "metadata": {},
   "outputs": [
    {
     "data": {
      "image/png": "[encoded data removed]",
      "text/plain": [
       "<Figure size 432x288 with 1 Axes>"
      ]
     },
     "metadata": {},
     "output_type": "display_data"
    }
   ],
   "source": [
    "plt.plot(range(1, 40), errors['uniform'], c='red', label='uniform')\n",
    "plt.plot(range(1, 40), errors['distance'], c='blue', label='distance')\n",
    "\n",
    "\n",
    "\n",
    "plt.legend()\n",
    "plt.show()"
   ]
  },
  {
   "cell_type": "code",
   "execution_count": null,
   "metadata": {
    "collapsed": true
   },
   "outputs": [],
   "source": []
  },
  {
   "cell_type": "code",
   "execution_count": 7,
   "metadata": {
    "collapsed": true
   },
   "outputs": [],
   "source": [
    "alphas = [1e-15, 1e-10, 1e-8, 1e-4, 1e-3, 1e-2, 1, 5, 10, 20]\n",
    "errors['ridge'] = []\n",
    "errors['lasso'] = []\n",
    "score = {'ridge': [], 'lasso': []}\n",
    "for alpha in alphas:\n",
    "    ridge = Ridge(alpha=alpha)\n",
    "    lasso = Lasso(alpha=alpha)\n",
    "\n",
    "    scores_ridge = cross_val_score(ridge, x, y['state'].values, cv=10)\n",
    "    scores_lasso = cross_val_score(lasso, x, y['state'].values, cv=10)\n",
    "    errors['ridge'].append(scores_ridge.mean())\n",
    "    errors['lasso'].append(scores_lasso.mean())\n"
   ]
  },
  {
   "cell_type": "code",
   "execution_count": 27,
   "metadata": {},
   "outputs": [
    {
     "name": "stdout",
     "output_type": "stream",
     "text": [
      "10\n",
      "10\n",
      "[1e-15, 1e-10, 1e-08, 0.0001, 0.001, 0.01, 1, 5, 10, 20]\n",
      "[0.8581193730870222, 0.8581193731381973, 0.8581193782189059, 0.8581639753995715, 0.857985522757929, 0.8435938788534816, -0.0017242873449614172, -0.0017242873449614172, -0.0017242873449614172, -0.0017242873449614172]\n"
     ]
    }
   ],
   "source": [
    "# print(len(alphas))\n",
    "print(len(errors['lasso']))\n",
    "print(len(alphas))\n",
    "print(alphas)\n",
    "\n",
    "print(errors['lasso'])"
   ]
  },
  {
   "cell_type": "code",
   "execution_count": 8,
   "metadata": {},
   "outputs": [
    {
     "data": {
      "image/png": "[encoded data removed]",
      "text/plain": [
       "<Figure size 432x288 with 1 Axes>"
      ]
     },
     "metadata": {},
     "output_type": "display_data"
    }
   ],
   "source": [
    "plt.scatter(alphas, errors['ridge'], c='red', label='Ridge')\n",
    "plt.scatter(alphas, errors['lasso'], c='blue', label='Lasso')\n",
    "\n",
    "plt.title(\"MSE for different alpha levels for Ridge & Lasso Regression\")\n",
    "plt.xlabel('alpha')\n",
    "plt.ylabel('MSE')\n",
    "plt.legend()\n",
    "\n",
    "plt.show()"
   ]
  },
  {
   "cell_type": "code",
   "execution_count": null,
   "metadata": {
    "collapsed": true
   },
   "outputs": [],
   "source": []
  }
 ],
 "metadata": {
  "kernelspec": {
   "display_name": "Python 3",
   "language": "python",
   "name": "python3"
  },
  "language_info": {
   "codemirror_mode": {
    "name": "ipython",
    "version": 3
   },
   "file_extension": ".py",
   "mimetype": "text/x-python",
   "name": "python",
   "nbconvert_exporter": "python",
   "pygments_lexer": "ipython3",
   "version": "3.6.3"
  }
 },
 "nbformat": 4,
 "nbformat_minor": 2
}
