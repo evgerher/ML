{
 "cells": [
  {
   "cell_type": "code",
   "execution_count": 22,
   "metadata": {
    "collapsed": true
   },
   "outputs": [],
   "source": [
    "import pandas as pd\n",
    "import matplotlib.pyplot as plt\n",
    "import numpy as np\n",
    "from sklearn.linear_model import Ridge\n",
    "from sklearn.metrics import mean_squared_error\n",
    "import random\n",
    "\n",
    "from sklearn.linear_model import LinearRegression"
   ]
  },
  {
   "cell_type": "code",
   "execution_count": 32,
   "metadata": {
    "collapsed": true
   },
   "outputs": [],
   "source": [
    "# performs k-fold cross-validation of Ridge regression to find optimal value of alpha\n",
    "# inputs: k - #folds, X, y - dataset, aplhas - list of alphas to choose from\n",
    "# output: list of mse, for each of possible alphas\n",
    "def ridge_cv(k, X, y, alphas):\n",
    "    splits = k_split(k,len(X))\n",
    "    results = []\n",
    "    \n",
    "    def calculate_mse(y_test, y_slice, alpha, bettas):\n",
    "        n = len(y_test)\n",
    "        m = len(y_slice)\n",
    "        if n != m:\n",
    "            raise Exception(\"Wrong dimensions\")\n",
    "        \n",
    "        L2 = 0\n",
    "        for _ in bettas:\n",
    "            L2 += _**2\n",
    "        \n",
    "        square_error = mean_squared_error(y_test, y_slice)\n",
    "        alpha_error = alpha * L2\n",
    "        \n",
    "        return square_error + alpha_error\n",
    "    \n",
    "    for alpha in alphas:\n",
    "        MMSE = 0\n",
    "        model = LinearRegression()\n",
    "        for index in range(k):\n",
    "            rows = splits[index]\n",
    "            x_slice = X.iloc[rows]\n",
    "            y_slice = y.iloc[rows]\n",
    "            if index == k-1:\n",
    "                y_predicted = model.predict(x_slice)\n",
    "                # Evaluation data set\n",
    "                MSE = calculate_mse(y_predicted, y_slice, alpha, model.coef_)\n",
    "                MMSE += MSE\n",
    "                continue\n",
    "            model.fit(x_slice, y_slice)\n",
    "        MMSE /= k\n",
    "        results.append(MMSE)\n",
    "    return results\n",
    "\n",
    "# sub-procedure for ridge_cv\n",
    "# returns k splits as tuples (train_indices, test_indices)\n",
    "# inputs: k - #folds, l - #rows in the dataset (length)\n",
    "# output: list of tuples\n",
    "def k_split(k, l):\n",
    "    if k > l:\n",
    "        raise Exception(\"Wrong k-fold\")\n",
    "    indexes = np.arange(0, l)\n",
    "    random.shuffle(indexes)\n",
    "    \n",
    "    \n",
    "    splits = []\n",
    "    for _ in range(k):\n",
    "        splits.append([])\n",
    "\n",
    "    index = 0\n",
    "    amount = 0\n",
    "    limit = l / k\n",
    "    for _ in indexes:\n",
    "        if amount >= limit:\n",
    "            amount = 0\n",
    "            index += 1\n",
    "        splits[index].append(_)\n",
    "        amount += 1\n",
    "        \n",
    "    \n",
    "    return splits"
   ]
  },
  {
   "cell_type": "code",
   "execution_count": 33,
   "metadata": {},
   "outputs": [
    {
     "data": {
      "image/png": "[encoded data removed]",
      "text/plain": [
       "<matplotlib.figure.Figure at 0x2b125242d30>"
      ]
     },
     "metadata": {},
     "output_type": "display_data"
    }
   ],
   "source": [
    "# load and pre-process the dataset\n",
    "hitters = pd.read_csv(\"datasets/Hitters.csv\").dropna().drop(\"Player\", axis=1)\n",
    "dummies = pd.get_dummies(hitters[['League', 'Division', 'NewLeague']])\n",
    "# Drop the column with the independent variable (Salary), and columns for which we created dummy variables\n",
    "X_ = hitters.drop(['Salary', 'League', 'Division', 'NewLeague'], axis=1).astype('float64')\n",
    "# Define the feature set X.\n",
    "X = pd.concat([X_, dummies[['League_N', 'Division_W', 'NewLeague_N']]], axis=1)\n",
    "y = hitters.Salary\n",
    "\n",
    "alphas = [1e-15, 1e-10, 1e-8, 1e-4, 1e-3, 1e-2, 1, 5, 10, 20]\n",
    "\n",
    "results = ridge_cv(10, X, y, alphas)\n",
    "# visualize the results\n",
    "plt.plot(alphas, results, 'ro')\n",
    "plt.title(\"MSE for different alpha levels for Ridge Regression\")\n",
    "plt.xlabel('alpha')\n",
    "plt.ylabel('MSE')\n",
    "plt.xscale('log')\n",
    "plt.show()"
   ]
  },
  {
   "cell_type": "code",
   "execution_count": 17,
   "metadata": {},
   "outputs": [
    {
     "name": "stdout",
     "output_type": "stream",
     "text": [
      "[[], [], []]\n"
     ]
    },
    {
     "data": {
      "text/plain": [
       "[[17, 5, 3, 6, 11, 13, 18], [1, 12, 8, 0, 7, 16, 19], [2, 14, 9, 4, 15, 10]]"
      ]
     },
     "execution_count": 17,
     "metadata": {},
     "output_type": "execute_result"
    }
   ],
   "source": []
  },
  {
   "cell_type": "code",
   "execution_count": null,
   "metadata": {
    "collapsed": true
   },
   "outputs": [],
   "source": []
  },
  {
   "cell_type": "code",
   "execution_count": null,
   "metadata": {
    "collapsed": true
   },
   "outputs": [],
   "source": []
  }
 ],
 "metadata": {
  "kernelspec": {
   "display_name": "Python 3",
   "language": "python",
   "name": "python3"
  },
  "language_info": {
   "codemirror_mode": {
    "name": "ipython",
    "version": 3
   },
   "file_extension": ".py",
   "mimetype": "text/x-python",
   "name": "python",
   "nbconvert_exporter": "python",
   "pygments_lexer": "ipython3",
   "version": "3.6.3"
  }
 },
 "nbformat": 4,
 "nbformat_minor": 2
}
