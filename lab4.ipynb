{
 "cells": [
  {
   "cell_type": "code",
   "execution_count": 6,
   "metadata": {
    "collapsed": true
   },
   "outputs": [],
   "source": [
    "import pandas as pd\n",
    "import matplotlib.pyplot as plt\n",
    "import numpy as np\n",
    "from sklearn.linear_model import Ridge\n",
    "from sklearn.metrics import mean_squared_error\n",
    "import random"
   ]
  },
  {
   "cell_type": "code",
   "execution_count": 16,
   "metadata": {},
   "outputs": [
    {
     "name": "stdout",
     "output_type": "stream",
     "text": [
      "[[88, 147, 95, 23, 43, 202, 255, 200, 32, 256, 56, 240, 128, 257, 151, 90, 181, 150, 110, 99, 166, 162, 230, 191, 135, 145, 211, 165, 112, 201, 12, 15, 258, 234, 81, 13, 79, 96, 29, 22, 47, 5, 174, 116, 4, 31, 42, 246, 118, 216, 154, 197, 179, 187, 27, 70, 82, 63, 198, 94, 50, 59, 168, 172, 14, 233, 55, 127, 91, 217, 146, 34, 123, 78, 122, 153, 129, 117, 247, 125, 249, 37, 213, 87, 131, 40, 72, 52, 208, 105, 54, 102, 155, 67, 222, 232, 157, 238, 195, 260, 205, 235, 75, 3, 48, 248, 252, 10, 236, 68, 212, 106, 136, 18, 33, 133, 98, 242, 89, 100, 36, 84, 183, 76, 74, 9, 53, 250, 164, 114, 149, 71, 25, 259, 177, 221, 104, 20, 38, 144, 143, 244, 61, 134, 107, 214, 1, 45, 245, 241, 159, 97, 137, 140, 109, 253, 193, 119, 64, 239, 16, 66, 28, 189, 182, 210, 58, 108, 175, 262, 39, 11, 124, 188, 17, 0, 148, 185, 60, 44, 251, 219, 169, 83, 220, 49, 130, 226, 229, 51, 103, 8, 173, 254, 194, 73, 120, 69, 30, 192, 261, 243, 224, 204, 2, 171, 231, 176, 46, 92, 115, 77, 111, 24, 215, 156, 167, 161, 180, 35, 228, 178, 170, 41, 227, 101, 80, 142, 209, 186, 158, 206, 86, 163, 7, 190, 237, 62, 121, 21, 6, 218], [152, 57, 199, 223, 203, 65, 26, 138, 225, 141, 85, 160, 132, 126, 184, 207, 113, 196, 19, 139, 93]]\n"
     ]
    }
   ],
   "source": [
    "# performs k-fold cross-validation of Ridge regression to find optimal value of alpha\n",
    "# inputs: k - #folds, X, y - dataset, aplhas - list of alphas to choose from\n",
    "# output: list of mse, for each of possible alphas\n",
    "def ridge_cv(k, X, y, alphas):\n",
    "    splits = k_split(k,len(X))\n",
    "    results = []\n",
    "\n",
    "    \n",
    "\n",
    "    return results\n",
    "\n",
    "# sub-procedure for ridge_cv\n",
    "# returns k splits as tuples (train_indices, test_indices)\n",
    "# inputs: k - #folds, l - #rows in the dataset (length)\n",
    "# output: list of tuples\n",
    "def k_split(k, l):\n",
    "    if k > l:\n",
    "        raise Exception(\"Wrong k-fold\")\n",
    "    indexes = np.arange(0, l)\n",
    "    random.shuffle(indexes)\n",
    "    ratio = 1 / k\n",
    "    \n",
    "    train, test = [], []\n",
    "    for _ in indexes:\n",
    "        if random.random() < ratio:\n",
    "            test.append(_)\n",
    "        else:\n",
    "            train.append(_)\n",
    "    splits = [train, test]\n",
    "    return splits\n",
    "\n",
    "# load and pre-process the dataset\n",
    "hitters = pd.read_csv(\"Hitters.csv\").dropna().drop(\"Player\", axis=1)\n",
    "dummies = pd.get_dummies(hitters[['League', 'Division', 'NewLeague']])\n",
    "# Drop the column with the independent variable (Salary), and columns for which we created dummy variables\n",
    "X_ = hitters.drop(['Salary', 'League', 'Division', 'NewLeague'], axis=1).astype('float64')\n",
    "# Define the feature set X.\n",
    "X = pd.concat([X_, dummies[['League_N', 'Division_W', 'NewLeague_N']]], axis=1)\n",
    "y = hitters.Salary\n",
    "\n",
    "alphas = [1e-15, 1e-10, 1e-8, 1e-4, 1e-3, 1e-2, 1, 5, 10, 20]\n",
    "\n",
    "results = ridge_cv(10, X, y, alphas)\n",
    "# visualize the results\n",
    "plt.plot(alphas, results, 'ro')\n",
    "plt.title(\"MSE for different alpha levels for Ridge Regression\")\n",
    "plt.xlabel('alpha')\n",
    "plt.ylabel('MSE')\n",
    "plt.xscale('log')\n",
    "plt.show()"
   ]
  },
  {
   "cell_type": "code",
   "execution_count": null,
   "metadata": {
    "collapsed": true
   },
   "outputs": [],
   "source": []
  },
  {
   "cell_type": "code",
   "execution_count": null,
   "metadata": {
    "collapsed": true
   },
   "outputs": [],
   "source": []
  }
 ],
 "metadata": {
  "kernelspec": {
   "display_name": "Python 3",
   "language": "python",
   "name": "python3"
  },
  "language_info": {
   "codemirror_mode": {
    "name": "ipython",
    "version": 3
   },
   "file_extension": ".py",
   "mimetype": "text/x-python",
   "name": "python",
   "nbconvert_exporter": "python",
   "pygments_lexer": "ipython3",
   "version": "3.6.3"
  }
 },
 "nbformat": 4,
 "nbformat_minor": 2
}
