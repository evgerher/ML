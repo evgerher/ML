{
 "cells": [
  {
   "attachments": {},
   "cell_type": "markdown",
   "metadata": {},
   "source": [
    "# Report\n",
    "## What is outlier\n",
    "(I did not visit last lab session and don't know all the details)  \n",
    "In my opinion outlier is a sample with outstanding weight.  That means the outlier obtains too high value after all iterations.  \n",
    "I measure __outstanding__ weight by its deviation from mean value of the sample.  \n",
    "\n",
    "## Approach\n",
    "### What to do with nan?\n",
    "1) Simpliest solution - drop all nan values. That leads to lose of ~40 countries from entire dataset, it is quite huge (~20%)  \n",
    "2) Another simple solution - assign 0 to nans. `df.fillna(0)` This solution affects mean & deviation values, don't like it.  \n",
    "3) My solution - set average values based on belonging to specific region. `Literacy (%)[Guernsey] = avg(Literacy (%), Europe)`    \n",
    "\n",
    "### How to get sample weights?\n",
    "In order to obtain sample weights I inherited from AdaBoostClassifier and store sample weights in additional container.  \n",
    "`self.sample_container = []`  \n",
    "### How do I measure outlier?\n",
    "1) Standartize the values of RV (last iteration's sample weights) `X∼N(μ,σ2)`  \n",
    "2) Apply formula (W - μ) / σ  _W - vector of weights_  \n",
    "3) Interpret outliers as values that are larger than two standard deviations, link to the [article](http://www.brendangregg.com/Articles/Detecting_Outliers.pdf)  \n",
    "    - Outliers = { val ∈ W | val > (μ + kσ)}\n",
    "    - A value of `k` is a hyperparameter, that should be chosen carefully  \n",
    "    \n",
    "#### Output examples\n",
    "<details>\n",
    "<summary>This combination provides best improvement of accuracy. K=[2], ESTIMATORS=[25], algorithm='SAMME'</summary>\n",
    "<br>\n",
    "Score with outliers equals = [0.927]  \n",
    "Score w/o outliers equals = [0.984]  \n",
    "  \n",
    "Found [9] outliers  \n",
    "- Albania  \n",
    "- Ireland  \n",
    "- Italy  \n",
    "- Japan  \n",
    "- Lesotho  \n",
    "- Rwanda  \n",
    "- San Marino  \n",
    "- Turkmenistan  \n",
    "- Uruguay  \n",
    "</details>\n",
    "<details>\n",
    "<summary>Not enough time for the model. K=[3], ESTIMATORS=[10], algorithm='SAMME'</summary>\n",
    "<br>\n",
    "Score with outliers equals = [0.913] - __as you can see here, the model did not have enough time to train__  \n",
    "Score w/o outliers equals = [0.940] - that leads to 3% improvement, but not the best  \n",
    "  \n",
    "Found [6] outliers  \n",
    "- Ireland  \n",
    "- Japan  \n",
    "- Lesotho   \n",
    "- Rwanda   \n",
    "- San Marino   \n",
    "- Uruguay  \n",
    "</details>\n",
    "\n",
    "#### Justification of the results:\n",
    "This plot represents standartized sample weights (blue) and sigma values (red) [1, 2, 3, 6]  \n",
    "We can see the distribution and find sample outliers\n",
    "\n",
    "![Plot](https://pp.userapi.com/c844618/v844618794/11922c/JQt4-LT4I3Y.jpg)\n",
    "\n",
    "### Post Scriptum\n",
    "- Test fraction equals to 0.3\n",
    "- Only default method was used in AdaBoostClassifier _(Decision Tree)_  \n",
    "- With K=0 model proposes best results with 100% accuracy, but it is silly. Model loses ~50 countries. We will not treat it as a winner.\n",
    "- Cases with K=6 identify astonishing outliers and increase the accuracy of the model, but only if #estimators is big enough (not equal to 10).\n",
    "- It is also possible to measure results by altering learning rate, but we are analyzing __outliers__, not AdaBoost performance.  \n",
    "\n"
   ]
  },
  {
   "cell_type": "code",
   "execution_count": 67,
   "metadata": {},
   "outputs": [],
   "source": [
    "import pandas as pd\n",
    "import numpy as np\n",
    "from sklearn.ensemble import AdaBoostClassifier\n",
    "from sklearn.model_selection import train_test_split\n",
    "import matplotlib.pyplot as plt"
   ]
  },
  {
   "cell_type": "code",
   "execution_count": 12,
   "metadata": {},
   "outputs": [],
   "source": [
    "class AdaTree(AdaBoostClassifier):\n",
    "    def __init__(self,\n",
    "                 base_estimator=None,\n",
    "                 n_estimators=50,\n",
    "                 learning_rate=1.,\n",
    "                 algorithm='SAMME.R',\n",
    "                 random_state=None):\n",
    "        super().__init__(base_estimator=base_estimator,\n",
    "                                                n_estimators=n_estimators,\n",
    "                                                learning_rate=learning_rate,\n",
    "                                                algorithm=algorithm,\n",
    "                                                random_state=random_state)\n",
    "        self.sample_container = []\n",
    "        \n",
    "    def _boost(self, iboost, X, y, sample_weight, random_state):\n",
    "        self.sample_container.append(sample_weight)\n",
    "        return super()._boost(iboost, X, y, sample_weight, random_state)\n"
   ]
  },
  {
   "cell_type": "code",
   "execution_count": 13,
   "metadata": {
    "collapsed": true
   },
   "outputs": [],
   "source": [
    "def fix_column(df, column):\n",
    "    averages = {}\n",
    "    amount = {}\n",
    "    df[column] = df[column].fillna(0)\n",
    "    \n",
    "    regions = np.unique(df['Region'].values)\n",
    "    for c in regions:\n",
    "        averages[c] = 0\n",
    "        amount[c] = 0\n",
    "    fix_indexes = []\n",
    "    \n",
    "    for i in range(len(df)):\n",
    "        region = df.loc[i, 'Region']\n",
    "        value = df.loc[i, column]\n",
    "        if value != 0:\n",
    "            averages[region] += value\n",
    "            amount[region] += 1\n",
    "        else:\n",
    "            fix_indexes.append(i)\n",
    "    \n",
    "    for reg in regions:\n",
    "        averages[reg] /= amount[reg]\n",
    "    \n",
    "    for fix in fix_indexes:\n",
    "        region = df.loc[fix, 'Region']\n",
    "        value = averages[region]\n",
    "        df.loc[fix, column] = value\n",
    "        \n",
    "    return df\n",
    "        \n",
    "def fix_columns(df, columns):\n",
    "    print(columns)\n",
    "    for column in columns:\n",
    "        df = fix_column(df, column)\n",
    "    return df\n",
    "        "
   ]
  },
  {
   "cell_type": "code",
   "execution_count": 14,
   "metadata": {},
   "outputs": [
    {
     "name": "stdout",
     "output_type": "stream",
     "text": [
      "['Population', 'Area (sq. mi.)', 'Pop. Density (per sq. mi.)', 'Coastline (coast/area ratio)', 'Net migration', 'Infant mortality (per 1000 births)', 'Literacy (%)', 'Phones (per 1000)', 'Arable (%)', 'Crops (%)', 'Other (%)', 'Climate', 'Birthrate', 'Deathrate', 'Agriculture', 'Industry', 'Service', 'GDP ($ per capita)']\n",
      "Country                                object\n",
      "Region                                 object\n",
      "Population                              int64\n",
      "Area (sq. mi.)                          int64\n",
      "Pop. Density (per sq. mi.)            float64\n",
      "Coastline (coast/area ratio)          float64\n",
      "Net migration                         float64\n",
      "Infant mortality (per 1000 births)    float64\n",
      "Literacy (%)                          float64\n",
      "Phones (per 1000)                     float64\n",
      "Arable (%)                            float64\n",
      "Crops (%)                             float64\n",
      "Other (%)                             float64\n",
      "Climate                               float64\n",
      "Birthrate                             float64\n",
      "Deathrate                             float64\n",
      "Agriculture                           float64\n",
      "Industry                              float64\n",
      "Service                               float64\n",
      "GDP ($ per capita)                    float64\n",
      "dtype: object\n"
     ]
    }
   ],
   "source": [
    "dataset = pd.read_csv('datasets/countries.csv')\n",
    "# dataset = dataset.dropna()\n",
    "# dataset = fix_column(dataset, 'Climate')\n",
    "# dataset = fix_column(dataset, 'Agriculture')\n",
    "# dataset = fix_column(dataset, 'Industry')\n",
    "# dataset = fix_column(dataset, 'Service')\n",
    "# dataset = fix_column(dataset, 'Birthrate')\n",
    "# dataset = fix_column(dataset, 'Deathrate')\n",
    "# dataset = fix_column(dataset, 'GDP ($ per capita)')\n",
    "dataset = fix_columns(dataset, [item for item in dataset.columns.values if item not in ['Region', 'Country']])\n",
    "\n",
    "print(dataset.dtypes)\n",
    "\n",
    "\n",
    "\n",
    "dataset['Region'] = dataset.Region.apply(lambda x: x.replace('EUROPE', '1'))\n",
    "dataset['Region'] = dataset.Region.apply(lambda x: x.replace('ASIA', '-1'))\n",
    "dataset['Region'] = dataset.Region.apply(lambda x: x.replace('AMERICA', '-1'))\n",
    "dataset['Region'] = dataset.Region.apply(lambda x: x.replace('AFRICA', '-1'))\n",
    "dataset['Region'] = dataset.Region.apply(lambda x: x.replace('OCEANIA', '-1'))\n",
    "dataset['Region'] = dataset['Region'].astype('float64')\n",
    "\n",
    "y = dataset[['Region']]\n",
    "X = dataset[[val for val in dataset.columns.values if val not in ['Region', 'Country']]]"
   ]
  },
  {
   "cell_type": "code",
   "execution_count": 81,
   "metadata": {},
   "outputs": [],
   "source": [
    "def ada_makemagic(X, y, k=2, n_estimators=25, method=None):\n",
    "    print(\"#\" * 15)\n",
    "    print(\"Task to detect outliers & reexecute w/o them. K=[{}], ESTIMATORS=[{}]\".format(k, n_estimators))\n",
    "    ada = AdaTree(n_estimators=n_estimators, learning_rate=1.0, algorithm='SAMME')\n",
    "    ada.fit(X, y)\n",
    "    \n",
    "    train_xc, test_xc, train_yc, test_yc = train_test_split(X, y, test_size=0.3)\n",
    "    ada_classic = AdaBoostClassifier(n_estimators=n_estimators, learning_rate=1.0, algorithm='SAMME')\n",
    "    ada_classic.fit(train_xc, train_yc)\n",
    "    score_classic = ada_classic.score(test_xc, test_yc)\n",
    "    print(\"Score with outliers equals = [{}]\".format(score_classic))\n",
    "\n",
    "    # Search for outliers\n",
    "    sample_weights = ada.sample_container\n",
    "    last_weights = sample_weights[-1]\n",
    "    mean = np.mean(last_weights)\n",
    "    std = np.std(last_weights)\n",
    "    standartized_weights = (last_weights - mean) / std\n",
    "    \n",
    "    outliers = []\n",
    "    for (index, val) in enumerate(last_weights):\n",
    "        if mean + k * std < val:\n",
    "            outliers.append(index)\n",
    "        \n",
    "    outl_names = dataset.loc[outliers, 'Country']\n",
    "#     print(outl_names.values)\n",
    "    print('Found [{}] outliers, burn them all'.format(len(outl_names)))\n",
    "    \n",
    "    dfx = X.drop(outliers)\n",
    "    dfy = y.drop(outliers)\n",
    "    train_x, test_x, train_y, test_y = train_test_split(dfx, dfy, test_size=0.3)\n",
    "    mega_ada = AdaBoostClassifier(n_estimators=n_estimators, learning_rate=1.0, algorithm='SAMME')\n",
    "    mega_ada.fit(train_x, train_y)\n",
    "    \n",
    "    score_wo = mega_ada.score(test_x, test_y)\n",
    "\n",
    "    print(\"Score w/o outliers equals = [{}]\".format(score_wo))   \n",
    "    return standartized_weights"
   ]
  },
  {
   "cell_type": "code",
   "execution_count": 65,
   "metadata": {
    "scrolled": true
   },
   "outputs": [
    {
     "name": "stdout",
     "output_type": "stream",
     "text": [
      "###############\n",
      "Task to detect outliers & reexecute w/o them. K=[0], ESTIMATORS=[10]\n",
      "Score with outliers equals = [0.9565217391304348]\n",
      "Found [46] outliers, burn them all\n",
      "Score w/o outliers equals = [1.0]\n",
      "###############\n",
      "Task to detect outliers & reexecute w/o them. K=[2], ESTIMATORS=[10]\n",
      "Score with outliers equals = [0.8695652173913043]\n",
      "Found [8] outliers, burn them all\n",
      "Score w/o outliers equals = [0.9393939393939394]\n",
      "###############\n",
      "Task to detect outliers & reexecute w/o them. K=[3], ESTIMATORS=[10]\n"
     ]
    },
    {
     "name": "stderr",
     "output_type": "stream",
     "text": [
      "C:\\Users\\evger\\Anaconda3\\lib\\site-packages\\sklearn\\utils\\validation.py:578: DataConversionWarning: A column-vector y was passed when a 1d array was expected. Please change the shape of y to (n_samples, ), for example using ravel().\n",
      "  y = column_or_1d(y, warn=True)\n",
      "C:\\Users\\evger\\Anaconda3\\lib\\site-packages\\sklearn\\utils\\validation.py:578: DataConversionWarning: A column-vector y was passed when a 1d array was expected. Please change the shape of y to (n_samples, ), for example using ravel().\n",
      "  y = column_or_1d(y, warn=True)\n",
      "C:\\Users\\evger\\Anaconda3\\lib\\site-packages\\sklearn\\utils\\validation.py:578: DataConversionWarning: A column-vector y was passed when a 1d array was expected. Please change the shape of y to (n_samples, ), for example using ravel().\n",
      "  y = column_or_1d(y, warn=True)\n",
      "C:\\Users\\evger\\Anaconda3\\lib\\site-packages\\sklearn\\utils\\validation.py:578: DataConversionWarning: A column-vector y was passed when a 1d array was expected. Please change the shape of y to (n_samples, ), for example using ravel().\n",
      "  y = column_or_1d(y, warn=True)\n",
      "C:\\Users\\evger\\Anaconda3\\lib\\site-packages\\sklearn\\utils\\validation.py:578: DataConversionWarning: A column-vector y was passed when a 1d array was expected. Please change the shape of y to (n_samples, ), for example using ravel().\n",
      "  y = column_or_1d(y, warn=True)\n",
      "C:\\Users\\evger\\Anaconda3\\lib\\site-packages\\sklearn\\utils\\validation.py:578: DataConversionWarning: A column-vector y was passed when a 1d array was expected. Please change the shape of y to (n_samples, ), for example using ravel().\n",
      "  y = column_or_1d(y, warn=True)\n",
      "C:\\Users\\evger\\Anaconda3\\lib\\site-packages\\sklearn\\utils\\validation.py:578: DataConversionWarning: A column-vector y was passed when a 1d array was expected. Please change the shape of y to (n_samples, ), for example using ravel().\n",
      "  y = column_or_1d(y, warn=True)\n",
      "C:\\Users\\evger\\Anaconda3\\lib\\site-packages\\sklearn\\utils\\validation.py:578: DataConversionWarning: A column-vector y was passed when a 1d array was expected. Please change the shape of y to (n_samples, ), for example using ravel().\n",
      "  y = column_or_1d(y, warn=True)\n"
     ]
    },
    {
     "name": "stdout",
     "output_type": "stream",
     "text": [
      "Score with outliers equals = [0.9565217391304348]\n",
      "Found [6] outliers, burn them all\n",
      "Score w/o outliers equals = [0.9402985074626866]\n",
      "###############\n",
      "Task to detect outliers & reexecute w/o them. K=[6], ESTIMATORS=[10]\n",
      "Score with outliers equals = [0.9420289855072463]\n",
      "Found [3] outliers, burn them all\n",
      "Score w/o outliers equals = [0.9264705882352942]\n",
      "###############\n",
      "Task to detect outliers & reexecute w/o them. K=[0], ESTIMATORS=[25]\n",
      "Score with outliers equals = [0.9420289855072463]\n",
      "Found [57] outliers, burn them all\n"
     ]
    },
    {
     "name": "stderr",
     "output_type": "stream",
     "text": [
      "C:\\Users\\evger\\Anaconda3\\lib\\site-packages\\sklearn\\utils\\validation.py:578: DataConversionWarning: A column-vector y was passed when a 1d array was expected. Please change the shape of y to (n_samples, ), for example using ravel().\n",
      "  y = column_or_1d(y, warn=True)\n",
      "C:\\Users\\evger\\Anaconda3\\lib\\site-packages\\sklearn\\utils\\validation.py:578: DataConversionWarning: A column-vector y was passed when a 1d array was expected. Please change the shape of y to (n_samples, ), for example using ravel().\n",
      "  y = column_or_1d(y, warn=True)\n",
      "C:\\Users\\evger\\Anaconda3\\lib\\site-packages\\sklearn\\utils\\validation.py:578: DataConversionWarning: A column-vector y was passed when a 1d array was expected. Please change the shape of y to (n_samples, ), for example using ravel().\n",
      "  y = column_or_1d(y, warn=True)\n",
      "C:\\Users\\evger\\Anaconda3\\lib\\site-packages\\sklearn\\utils\\validation.py:578: DataConversionWarning: A column-vector y was passed when a 1d array was expected. Please change the shape of y to (n_samples, ), for example using ravel().\n",
      "  y = column_or_1d(y, warn=True)\n",
      "C:\\Users\\evger\\Anaconda3\\lib\\site-packages\\sklearn\\utils\\validation.py:578: DataConversionWarning: A column-vector y was passed when a 1d array was expected. Please change the shape of y to (n_samples, ), for example using ravel().\n",
      "  y = column_or_1d(y, warn=True)\n",
      "C:\\Users\\evger\\Anaconda3\\lib\\site-packages\\sklearn\\utils\\validation.py:578: DataConversionWarning: A column-vector y was passed when a 1d array was expected. Please change the shape of y to (n_samples, ), for example using ravel().\n",
      "  y = column_or_1d(y, warn=True)\n",
      "C:\\Users\\evger\\Anaconda3\\lib\\site-packages\\sklearn\\utils\\validation.py:578: DataConversionWarning: A column-vector y was passed when a 1d array was expected. Please change the shape of y to (n_samples, ), for example using ravel().\n",
      "  y = column_or_1d(y, warn=True)\n"
     ]
    },
    {
     "name": "stdout",
     "output_type": "stream",
     "text": [
      "Score w/o outliers equals = [0.9803921568627451]\n",
      "###############\n",
      "Task to detect outliers & reexecute w/o them. K=[2], ESTIMATORS=[25]\n",
      "Score with outliers equals = [0.9420289855072463]\n",
      "Found [9] outliers, burn them all\n",
      "Score w/o outliers equals = [0.9848484848484849]\n",
      "###############\n",
      "Task to detect outliers & reexecute w/o them. K=[3], ESTIMATORS=[25]\n"
     ]
    },
    {
     "name": "stderr",
     "output_type": "stream",
     "text": [
      "C:\\Users\\evger\\Anaconda3\\lib\\site-packages\\sklearn\\utils\\validation.py:578: DataConversionWarning: A column-vector y was passed when a 1d array was expected. Please change the shape of y to (n_samples, ), for example using ravel().\n",
      "  y = column_or_1d(y, warn=True)\n",
      "C:\\Users\\evger\\Anaconda3\\lib\\site-packages\\sklearn\\utils\\validation.py:578: DataConversionWarning: A column-vector y was passed when a 1d array was expected. Please change the shape of y to (n_samples, ), for example using ravel().\n",
      "  y = column_or_1d(y, warn=True)\n",
      "C:\\Users\\evger\\Anaconda3\\lib\\site-packages\\sklearn\\utils\\validation.py:578: DataConversionWarning: A column-vector y was passed when a 1d array was expected. Please change the shape of y to (n_samples, ), for example using ravel().\n",
      "  y = column_or_1d(y, warn=True)\n",
      "C:\\Users\\evger\\Anaconda3\\lib\\site-packages\\sklearn\\utils\\validation.py:578: DataConversionWarning: A column-vector y was passed when a 1d array was expected. Please change the shape of y to (n_samples, ), for example using ravel().\n",
      "  y = column_or_1d(y, warn=True)\n",
      "C:\\Users\\evger\\Anaconda3\\lib\\site-packages\\sklearn\\utils\\validation.py:578: DataConversionWarning: A column-vector y was passed when a 1d array was expected. Please change the shape of y to (n_samples, ), for example using ravel().\n",
      "  y = column_or_1d(y, warn=True)\n"
     ]
    },
    {
     "name": "stdout",
     "output_type": "stream",
     "text": [
      "Score with outliers equals = [0.9855072463768116]\n",
      "Found [6] outliers, burn them all\n",
      "Score w/o outliers equals = [0.9402985074626866]\n",
      "###############\n",
      "Task to detect outliers & reexecute w/o them. K=[6], ESTIMATORS=[25]\n",
      "Score with outliers equals = [0.9420289855072463]\n",
      "Found [2] outliers, burn them all\n",
      "Score w/o outliers equals = [0.9852941176470589]\n",
      "###############\n",
      "Task to detect outliers & reexecute w/o them. K=[0], ESTIMATORS=[50]\n"
     ]
    },
    {
     "name": "stderr",
     "output_type": "stream",
     "text": [
      "C:\\Users\\evger\\Anaconda3\\lib\\site-packages\\sklearn\\utils\\validation.py:578: DataConversionWarning: A column-vector y was passed when a 1d array was expected. Please change the shape of y to (n_samples, ), for example using ravel().\n",
      "  y = column_or_1d(y, warn=True)\n",
      "C:\\Users\\evger\\Anaconda3\\lib\\site-packages\\sklearn\\utils\\validation.py:578: DataConversionWarning: A column-vector y was passed when a 1d array was expected. Please change the shape of y to (n_samples, ), for example using ravel().\n",
      "  y = column_or_1d(y, warn=True)\n",
      "C:\\Users\\evger\\Anaconda3\\lib\\site-packages\\sklearn\\utils\\validation.py:578: DataConversionWarning: A column-vector y was passed when a 1d array was expected. Please change the shape of y to (n_samples, ), for example using ravel().\n",
      "  y = column_or_1d(y, warn=True)\n",
      "C:\\Users\\evger\\Anaconda3\\lib\\site-packages\\sklearn\\utils\\validation.py:578: DataConversionWarning: A column-vector y was passed when a 1d array was expected. Please change the shape of y to (n_samples, ), for example using ravel().\n",
      "  y = column_or_1d(y, warn=True)\n",
      "C:\\Users\\evger\\Anaconda3\\lib\\site-packages\\sklearn\\utils\\validation.py:578: DataConversionWarning: A column-vector y was passed when a 1d array was expected. Please change the shape of y to (n_samples, ), for example using ravel().\n",
      "  y = column_or_1d(y, warn=True)\n",
      "C:\\Users\\evger\\Anaconda3\\lib\\site-packages\\sklearn\\utils\\validation.py:578: DataConversionWarning: A column-vector y was passed when a 1d array was expected. Please change the shape of y to (n_samples, ), for example using ravel().\n",
      "  y = column_or_1d(y, warn=True)\n",
      "C:\\Users\\evger\\Anaconda3\\lib\\site-packages\\sklearn\\utils\\validation.py:578: DataConversionWarning: A column-vector y was passed when a 1d array was expected. Please change the shape of y to (n_samples, ), for example using ravel().\n",
      "  y = column_or_1d(y, warn=True)\n",
      "C:\\Users\\evger\\Anaconda3\\lib\\site-packages\\sklearn\\utils\\validation.py:578: DataConversionWarning: A column-vector y was passed when a 1d array was expected. Please change the shape of y to (n_samples, ), for example using ravel().\n",
      "  y = column_or_1d(y, warn=True)\n"
     ]
    },
    {
     "name": "stdout",
     "output_type": "stream",
     "text": [
      "Score with outliers equals = [0.9420289855072463]\n",
      "Found [55] outliers, burn them all\n",
      "Score w/o outliers equals = [1.0]\n",
      "###############\n",
      "Task to detect outliers & reexecute w/o them. K=[2], ESTIMATORS=[50]\n"
     ]
    },
    {
     "name": "stderr",
     "output_type": "stream",
     "text": [
      "C:\\Users\\evger\\Anaconda3\\lib\\site-packages\\sklearn\\utils\\validation.py:578: DataConversionWarning: A column-vector y was passed when a 1d array was expected. Please change the shape of y to (n_samples, ), for example using ravel().\n",
      "  y = column_or_1d(y, warn=True)\n",
      "C:\\Users\\evger\\Anaconda3\\lib\\site-packages\\sklearn\\utils\\validation.py:578: DataConversionWarning: A column-vector y was passed when a 1d array was expected. Please change the shape of y to (n_samples, ), for example using ravel().\n",
      "  y = column_or_1d(y, warn=True)\n",
      "C:\\Users\\evger\\Anaconda3\\lib\\site-packages\\sklearn\\utils\\validation.py:578: DataConversionWarning: A column-vector y was passed when a 1d array was expected. Please change the shape of y to (n_samples, ), for example using ravel().\n",
      "  y = column_or_1d(y, warn=True)\n"
     ]
    },
    {
     "name": "stdout",
     "output_type": "stream",
     "text": [
      "Score with outliers equals = [0.9855072463768116]\n",
      "Found [9] outliers, burn them all\n",
      "Score w/o outliers equals = [0.9848484848484849]\n",
      "###############\n",
      "Task to detect outliers & reexecute w/o them. K=[3], ESTIMATORS=[50]\n"
     ]
    },
    {
     "name": "stderr",
     "output_type": "stream",
     "text": [
      "C:\\Users\\evger\\Anaconda3\\lib\\site-packages\\sklearn\\utils\\validation.py:578: DataConversionWarning: A column-vector y was passed when a 1d array was expected. Please change the shape of y to (n_samples, ), for example using ravel().\n",
      "  y = column_or_1d(y, warn=True)\n",
      "C:\\Users\\evger\\Anaconda3\\lib\\site-packages\\sklearn\\utils\\validation.py:578: DataConversionWarning: A column-vector y was passed when a 1d array was expected. Please change the shape of y to (n_samples, ), for example using ravel().\n",
      "  y = column_or_1d(y, warn=True)\n"
     ]
    },
    {
     "name": "stdout",
     "output_type": "stream",
     "text": [
      "Score with outliers equals = [0.8985507246376812]\n",
      "Found [7] outliers, burn them all\n",
      "Score w/o outliers equals = [1.0]\n",
      "###############\n",
      "Task to detect outliers & reexecute w/o them. K=[6], ESTIMATORS=[50]\n"
     ]
    },
    {
     "name": "stderr",
     "output_type": "stream",
     "text": [
      "C:\\Users\\evger\\Anaconda3\\lib\\site-packages\\sklearn\\utils\\validation.py:578: DataConversionWarning: A column-vector y was passed when a 1d array was expected. Please change the shape of y to (n_samples, ), for example using ravel().\n",
      "  y = column_or_1d(y, warn=True)\n",
      "C:\\Users\\evger\\Anaconda3\\lib\\site-packages\\sklearn\\utils\\validation.py:578: DataConversionWarning: A column-vector y was passed when a 1d array was expected. Please change the shape of y to (n_samples, ), for example using ravel().\n",
      "  y = column_or_1d(y, warn=True)\n"
     ]
    },
    {
     "name": "stdout",
     "output_type": "stream",
     "text": [
      "Score with outliers equals = [0.9565217391304348]\n",
      "Found [1] outliers, burn them all\n",
      "Score w/o outliers equals = [0.9558823529411765]\n",
      "###############\n",
      "Task to detect outliers & reexecute w/o them. K=[0], ESTIMATORS=[100]\n"
     ]
    },
    {
     "name": "stderr",
     "output_type": "stream",
     "text": [
      "C:\\Users\\evger\\Anaconda3\\lib\\site-packages\\sklearn\\utils\\validation.py:578: DataConversionWarning: A column-vector y was passed when a 1d array was expected. Please change the shape of y to (n_samples, ), for example using ravel().\n",
      "  y = column_or_1d(y, warn=True)\n",
      "C:\\Users\\evger\\Anaconda3\\lib\\site-packages\\sklearn\\utils\\validation.py:578: DataConversionWarning: A column-vector y was passed when a 1d array was expected. Please change the shape of y to (n_samples, ), for example using ravel().\n",
      "  y = column_or_1d(y, warn=True)\n",
      "C:\\Users\\evger\\Anaconda3\\lib\\site-packages\\sklearn\\utils\\validation.py:578: DataConversionWarning: A column-vector y was passed when a 1d array was expected. Please change the shape of y to (n_samples, ), for example using ravel().\n",
      "  y = column_or_1d(y, warn=True)\n",
      "C:\\Users\\evger\\Anaconda3\\lib\\site-packages\\sklearn\\utils\\validation.py:578: DataConversionWarning: A column-vector y was passed when a 1d array was expected. Please change the shape of y to (n_samples, ), for example using ravel().\n",
      "  y = column_or_1d(y, warn=True)\n"
     ]
    },
    {
     "name": "stdout",
     "output_type": "stream",
     "text": [
      "Score with outliers equals = [0.9420289855072463]\n",
      "Found [46] outliers, burn them all\n",
      "Score w/o outliers equals = [1.0]\n",
      "###############\n",
      "Task to detect outliers & reexecute w/o them. K=[2], ESTIMATORS=[100]\n"
     ]
    },
    {
     "name": "stderr",
     "output_type": "stream",
     "text": [
      "C:\\Users\\evger\\Anaconda3\\lib\\site-packages\\sklearn\\utils\\validation.py:578: DataConversionWarning: A column-vector y was passed when a 1d array was expected. Please change the shape of y to (n_samples, ), for example using ravel().\n",
      "  y = column_or_1d(y, warn=True)\n",
      "C:\\Users\\evger\\Anaconda3\\lib\\site-packages\\sklearn\\utils\\validation.py:578: DataConversionWarning: A column-vector y was passed when a 1d array was expected. Please change the shape of y to (n_samples, ), for example using ravel().\n",
      "  y = column_or_1d(y, warn=True)\n",
      "C:\\Users\\evger\\Anaconda3\\lib\\site-packages\\sklearn\\utils\\validation.py:578: DataConversionWarning: A column-vector y was passed when a 1d array was expected. Please change the shape of y to (n_samples, ), for example using ravel().\n",
      "  y = column_or_1d(y, warn=True)\n"
     ]
    },
    {
     "name": "stdout",
     "output_type": "stream",
     "text": [
      "Score with outliers equals = [0.9420289855072463]\n",
      "Found [10] outliers, burn them all\n",
      "Score w/o outliers equals = [0.9848484848484849]\n",
      "###############\n",
      "Task to detect outliers & reexecute w/o them. K=[3], ESTIMATORS=[100]\n"
     ]
    },
    {
     "name": "stderr",
     "output_type": "stream",
     "text": [
      "C:\\Users\\evger\\Anaconda3\\lib\\site-packages\\sklearn\\utils\\validation.py:578: DataConversionWarning: A column-vector y was passed when a 1d array was expected. Please change the shape of y to (n_samples, ), for example using ravel().\n",
      "  y = column_or_1d(y, warn=True)\n",
      "C:\\Users\\evger\\Anaconda3\\lib\\site-packages\\sklearn\\utils\\validation.py:578: DataConversionWarning: A column-vector y was passed when a 1d array was expected. Please change the shape of y to (n_samples, ), for example using ravel().\n",
      "  y = column_or_1d(y, warn=True)\n"
     ]
    },
    {
     "name": "stdout",
     "output_type": "stream",
     "text": [
      "Score with outliers equals = [0.9565217391304348]\n",
      "Found [4] outliers, burn them all\n",
      "Score w/o outliers equals = [0.9402985074626866]\n",
      "###############\n",
      "Task to detect outliers & reexecute w/o them. K=[6], ESTIMATORS=[100]\n"
     ]
    },
    {
     "name": "stderr",
     "output_type": "stream",
     "text": [
      "C:\\Users\\evger\\Anaconda3\\lib\\site-packages\\sklearn\\utils\\validation.py:578: DataConversionWarning: A column-vector y was passed when a 1d array was expected. Please change the shape of y to (n_samples, ), for example using ravel().\n",
      "  y = column_or_1d(y, warn=True)\n",
      "C:\\Users\\evger\\Anaconda3\\lib\\site-packages\\sklearn\\utils\\validation.py:578: DataConversionWarning: A column-vector y was passed when a 1d array was expected. Please change the shape of y to (n_samples, ), for example using ravel().\n",
      "  y = column_or_1d(y, warn=True)\n",
      "C:\\Users\\evger\\Anaconda3\\lib\\site-packages\\sklearn\\utils\\validation.py:578: DataConversionWarning: A column-vector y was passed when a 1d array was expected. Please change the shape of y to (n_samples, ), for example using ravel().\n",
      "  y = column_or_1d(y, warn=True)\n",
      "C:\\Users\\evger\\Anaconda3\\lib\\site-packages\\sklearn\\utils\\validation.py:578: DataConversionWarning: A column-vector y was passed when a 1d array was expected. Please change the shape of y to (n_samples, ), for example using ravel().\n",
      "  y = column_or_1d(y, warn=True)\n"
     ]
    },
    {
     "name": "stdout",
     "output_type": "stream",
     "text": [
      "Score with outliers equals = [0.9420289855072463]\n",
      "Found [2] outliers, burn them all\n",
      "Score w/o outliers equals = [0.9558823529411765]\n"
     ]
    },
    {
     "ename": "NameError",
     "evalue": "name 'standartized_weights' is not defined",
     "output_type": "error",
     "traceback": [
      "\u001b[1;31m---------------------------------------------------------------------------\u001b[0m",
      "\u001b[1;31mNameError\u001b[0m                                 Traceback (most recent call last)",
      "\u001b[1;32m<ipython-input-65-bf1c55b97812>\u001b[0m in \u001b[0;36m<module>\u001b[1;34m()\u001b[0m\n\u001b[0;32m      5\u001b[0m         \u001b[0mada_makemagic\u001b[0m\u001b[1;33m(\u001b[0m\u001b[0mX\u001b[0m\u001b[1;33m,\u001b[0m \u001b[0my\u001b[0m\u001b[1;33m,\u001b[0m \u001b[0mk\u001b[0m\u001b[1;33m=\u001b[0m\u001b[0mk\u001b[0m\u001b[1;33m,\u001b[0m \u001b[0mn_estimators\u001b[0m\u001b[1;33m=\u001b[0m\u001b[0mn_est\u001b[0m\u001b[1;33m)\u001b[0m\u001b[1;33m\u001b[0m\u001b[0m\n\u001b[0;32m      6\u001b[0m \u001b[1;33m\u001b[0m\u001b[0m\n\u001b[1;32m----> 7\u001b[1;33m \u001b[0mprint\u001b[0m\u001b[1;33m(\u001b[0m\u001b[0mstandartized_weights\u001b[0m\u001b[1;33m)\u001b[0m\u001b[1;33m\u001b[0m\u001b[0m\n\u001b[0m",
      "\u001b[1;31mNameError\u001b[0m: name 'standartized_weights' is not defined"
     ]
    }
   ],
   "source": [
    "estimators = [10, 25, 50, 100]\n",
    "ks = [0, 2, 3, 6]\n",
    "for n_est in estimators:\n",
    "    for k in ks:\n",
    "        ada_makemagic(X, y, k=k, n_estimators=n_est)\n"
   ]
  },
  {
   "cell_type": "code",
   "execution_count": 84,
   "metadata": {
    "scrolled": true
   },
   "outputs": [
    {
     "name": "stdout",
     "output_type": "stream",
     "text": [
      "###############\n",
      "Task to detect outliers & reexecute w/o them. K=[2], ESTIMATORS=[25]\n",
      "Score with outliers equals = [0.9420289855072463]\n",
      "Found [9] outliers, burn them all\n",
      "Score w/o outliers equals = [0.9848484848484849]\n"
     ]
    },
    {
     "name": "stderr",
     "output_type": "stream",
     "text": [
      "C:\\Users\\evger\\Anaconda3\\lib\\site-packages\\sklearn\\utils\\validation.py:578: DataConversionWarning: A column-vector y was passed when a 1d array was expected. Please change the shape of y to (n_samples, ), for example using ravel().\n",
      "  y = column_or_1d(y, warn=True)\n",
      "C:\\Users\\evger\\Anaconda3\\lib\\site-packages\\sklearn\\utils\\validation.py:578: DataConversionWarning: A column-vector y was passed when a 1d array was expected. Please change the shape of y to (n_samples, ), for example using ravel().\n",
      "  y = column_or_1d(y, warn=True)\n",
      "C:\\Users\\evger\\Anaconda3\\lib\\site-packages\\sklearn\\utils\\validation.py:578: DataConversionWarning: A column-vector y was passed when a 1d array was expected. Please change the shape of y to (n_samples, ), for example using ravel().\n",
      "  y = column_or_1d(y, warn=True)\n"
     ]
    },
    {
     "data": {
      "image/png": "[encoded data removed]",
      "text/plain": [
       "<Figure size 432x288 with 1 Axes>"
      ]
     },
     "metadata": {},
     "output_type": "display_data"
    }
   ],
   "source": [
    "weights = ada_makemagic(X, y)\n",
    "ys = [1] * len(weights)\n",
    "sigma = np.std(weights)\n",
    "sigmas = [sigma, sigma * 2, sigma * 3, sigma * 6]\n",
    "plt.scatter(weights, ys, c='b')\n",
    "plt.scatter(sigmas, [1, 1, 1, 1], c='r')\n",
    "plt.xlabel('Standartized values of weights')\n",
    "plt.title('Weights are blue and sigmas are red')  # skies are blue and clouds are white\n",
    "plt.show()"
   ]
  },
  {
   "cell_type": "code",
   "execution_count": null,
   "metadata": {
    "collapsed": true
   },
   "outputs": [],
   "source": []
  }
 ],
 "metadata": {
  "kernelspec": {
   "display_name": "Python 3",
   "language": "python",
   "name": "python3"
  },
  "language_info": {
   "codemirror_mode": {
    "name": "ipython",
    "version": 3
   },
   "file_extension": ".py",
   "mimetype": "text/x-python",
   "name": "python",
   "nbconvert_exporter": "python",
   "pygments_lexer": "ipython3",
   "version": "3.6.3"
  }
 },
 "nbformat": 4,
 "nbformat_minor": 2
}
