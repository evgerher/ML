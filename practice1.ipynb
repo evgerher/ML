{
 "cells": [
  {
   "cell_type": "markdown",
   "metadata": {},
   "source": [
    "# Here we will implement linear regression from scratch\n",
    "## The task is to compare results of linear, polynomial and interactive regressions\n",
    "### In addition we will implement different validation techniques"
   ]
  },
  {
   "cell_type": "code",
   "execution_count": 37,
   "metadata": {},
   "outputs": [],
   "source": [
    "import pandas as pd\n",
    "import numpy as np\n",
    "\n",
    "from sklearn import datasets, linear_model\n",
    "from sklearn.metrics import mean_squared_error, r2_score"
   ]
  },
  {
   "cell_type": "code",
   "execution_count": 34,
   "metadata": {},
   "outputs": [],
   "source": [
    "def shuffle_data_pd(df):\n",
    "    #return df.reindex(np.random.permutation(df.index))\n",
    "    return df.sample(frac=1).reset_index(drop=True)\n",
    "\n",
    "    \n",
    "def shuffle_data_np(dataset):\n",
    "    np.random.shuffle(dataset)\n",
    "    return dataset\n",
    "\n",
    "def example():\n",
    "    df = pd.DataFrame(np.random.random((6, 2)), columns=['a', 'b'])\n",
    "    num = np.random.random((6, 2))\n",
    "    print(df)\n",
    "    print(shuffle_data_pd(df))\n",
    "\n",
    "    print(num)\n",
    "\n",
    "    print(shuffle_data_np(num))\n"
   ]
  },
  {
   "cell_type": "code",
   "execution_count": 35,
   "metadata": {},
   "outputs": [],
   "source": [
    "def k_fold_cv_split_hands(dataset, k):\n",
    "    N = len(dataset)\n",
    "    #shuffle\n",
    "    indexes = np.arange(0, N)\n",
    "    indexes = shuffle_data_np(indexes)\n",
    "    \n",
    "    # splitting\n",
    "    \n",
    "    trains = []\n",
    "    tests = []\n",
    "    \n",
    "    fraction = 1. / k\n",
    "    print(fraction)\n",
    "    \n",
    "    for i in range(k):\n",
    "        trains.append([])\n",
    "        tests.append([])\n",
    "        \n",
    "        bottom = (int)(fraction * i * N)\n",
    "        top = (int)(fraction * (i+1) * N)\n",
    "        if top > N:\n",
    "            top = N\n",
    "\n",
    "        tests[i] = indexes[bottom:top]\n",
    "        \n",
    "        train1 = indexes[0:bottom]\n",
    "        train2 = indexes[top:N]\n",
    "        trains[i] = np.concatenate((train1, train2))\n",
    "        \n",
    "    return trains, tests\n",
    "    \n",
    "def k_fold_cv(dataset, k):\n",
    "    pass\n",
    "    \n",
    "def cv_example():\n",
    "    df = pd.DataFrame(np.random.random((18, 2)), columns=['a', 'b'])\n",
    "    print(df)\n",
    "    train_indexes, test_indexes = k_fold_cv_split_hands(df, 3)\n",
    "    print(train_indexes)\n",
    "    print(test_indexes)\n",
    "\n"
   ]
  },
  {
   "cell_type": "code",
   "execution_count": 97,
   "metadata": {
    "collapsed": true
   },
   "outputs": [],
   "source": [
    "def k_fold_cv(dataset, k, method,  method_type, pred_cols):\n",
    "    def get_error(predicted, actual, method_type):\n",
    "        if method_type is 'regression': #MSE\n",
    "            summ = 0\n",
    "            for i in range(len(predicted)):\n",
    "                summ += (predicted[i] - actual[i]) ** 2\n",
    "            return summ / len(predicted)\n",
    "        else: # Classification error\n",
    "            counter = 0 # WORK WITH PANDAS DF\n",
    "            print(actual)\n",
    "            actual = actual['species']\n",
    "            print(actual)\n",
    "\n",
    "            for i in range(len(predicted)):\n",
    "                counter += predicted[i] != actual[i]\n",
    "            return counter\n",
    "    \n",
    "    mses = []\n",
    "    X = dataset[pred_cols]\n",
    "    Y = dataset[[col for col in dataset.columns if col not in pred_cols]]\n",
    "    \n",
    "    trains, tests = k_fold_cv_split_hands(dataset, k)\n",
    "    for i in range(k):\n",
    "        train = trains[i]\n",
    "        test = tests[i]\n",
    "        train_X, train_Y = X.iloc[train, :], Y.iloc[train, :]\n",
    "        test_X, test_Y = X.iloc[test, :], Y.iloc[test, :]\n",
    "        method.fit(train_X, train_Y)\n",
    "        predict_Y = method.predict(test_X)\n",
    "        mse = get_error(predict_Y, test_Y, method_type)\n",
    "        mses.append(mse)\n",
    "    mmse = sum(mses) / len(mses)\n",
    "    return mses, mmse\n",
    "\n",
    "    "
   ]
  },
  {
   "cell_type": "code",
   "execution_count": 98,
   "metadata": {},
   "outputs": [
    {
     "name": "stdout",
     "output_type": "stream",
     "text": [
      "0.2\n",
      "        species\n",
      "51   versicolor\n",
      "81   versicolor\n",
      "123   virginica\n",
      "102   virginica\n",
      "17       setosa\n",
      "84   versicolor\n",
      "62   versicolor\n",
      "58   versicolor\n",
      "91   versicolor\n",
      "141   virginica\n",
      "138   virginica\n",
      "65   versicolor\n",
      "61   versicolor\n",
      "140   virginica\n",
      "11       setosa\n",
      "113   virginica\n",
      "71   versicolor\n",
      "97   versicolor\n",
      "20       setosa\n",
      "14       setosa\n",
      "136   virginica\n",
      "35       setosa\n",
      "83   versicolor\n",
      "75   versicolor\n",
      "5        setosa\n",
      "37       setosa\n",
      "24       setosa\n",
      "144   virginica\n",
      "125   virginica\n",
      "28       setosa\n",
      "51     versicolor\n",
      "81     versicolor\n",
      "123     virginica\n",
      "102     virginica\n",
      "17         setosa\n",
      "84     versicolor\n",
      "62     versicolor\n",
      "58     versicolor\n",
      "91     versicolor\n",
      "141     virginica\n",
      "138     virginica\n",
      "65     versicolor\n",
      "61     versicolor\n",
      "140     virginica\n",
      "11         setosa\n",
      "113     virginica\n",
      "71     versicolor\n",
      "97     versicolor\n",
      "20         setosa\n",
      "14         setosa\n",
      "136     virginica\n",
      "35         setosa\n",
      "83     versicolor\n",
      "75     versicolor\n",
      "5          setosa\n",
      "37         setosa\n",
      "24         setosa\n",
      "144     virginica\n",
      "125     virginica\n",
      "28         setosa\n",
      "Name: species, dtype: object\n"
     ]
    },
    {
     "name": "stderr",
     "output_type": "stream",
     "text": [
      "C:\\Users\\evger\\Anaconda3\\lib\\site-packages\\sklearn\\utils\\validation.py:578: DataConversionWarning: A column-vector y was passed when a 1d array was expected. Please change the shape of y to (n_samples, ), for example using ravel().\n",
      "  y = column_or_1d(y, warn=True)\n"
     ]
    },
    {
     "ename": "KeyError",
     "evalue": "0",
     "output_type": "error",
     "traceback": [
      "\u001b[1;31m---------------------------------------------------------------------------\u001b[0m",
      "\u001b[1;31mKeyError\u001b[0m                                  Traceback (most recent call last)",
      "\u001b[1;32m<ipython-input-98-efaaf07df863>\u001b[0m in \u001b[0;36m<module>\u001b[1;34m()\u001b[0m\n\u001b[0;32m      2\u001b[0m \u001b[1;31m#print(df)\u001b[0m\u001b[1;33m\u001b[0m\u001b[1;33m\u001b[0m\u001b[0m\n\u001b[0;32m      3\u001b[0m \u001b[0mregr\u001b[0m \u001b[1;33m=\u001b[0m \u001b[0mlinear_model\u001b[0m\u001b[1;33m.\u001b[0m\u001b[0mLogisticRegression\u001b[0m\u001b[1;33m(\u001b[0m\u001b[1;33m)\u001b[0m\u001b[1;33m\u001b[0m\u001b[0m\n\u001b[1;32m----> 4\u001b[1;33m \u001b[0mmses\u001b[0m\u001b[1;33m,\u001b[0m \u001b[0mmmse\u001b[0m \u001b[1;33m=\u001b[0m \u001b[0mk_fold_cv\u001b[0m\u001b[1;33m(\u001b[0m\u001b[0mdf\u001b[0m\u001b[1;33m,\u001b[0m \u001b[1;36m5\u001b[0m\u001b[1;33m,\u001b[0m \u001b[0mregr\u001b[0m\u001b[1;33m,\u001b[0m \u001b[1;34m'classification'\u001b[0m\u001b[1;33m,\u001b[0m \u001b[1;33m[\u001b[0m\u001b[1;34m'sepal_length'\u001b[0m\u001b[1;33m,\u001b[0m \u001b[1;34m'sepal_width'\u001b[0m\u001b[1;33m,\u001b[0m \u001b[1;34m'petal_length'\u001b[0m\u001b[1;33m,\u001b[0m \u001b[1;34m'petal_width'\u001b[0m\u001b[1;33m]\u001b[0m\u001b[1;33m)\u001b[0m\u001b[1;33m\u001b[0m\u001b[0m\n\u001b[0m",
      "\u001b[1;32m<ipython-input-97-de2ff8bec2e0>\u001b[0m in \u001b[0;36mk_fold_cv\u001b[1;34m(dataset, k, method, method_type, pred_cols)\u001b[0m\n\u001b[0;32m     28\u001b[0m         \u001b[0mmethod\u001b[0m\u001b[1;33m.\u001b[0m\u001b[0mfit\u001b[0m\u001b[1;33m(\u001b[0m\u001b[0mtrain_X\u001b[0m\u001b[1;33m,\u001b[0m \u001b[0mtrain_Y\u001b[0m\u001b[1;33m)\u001b[0m\u001b[1;33m\u001b[0m\u001b[0m\n\u001b[0;32m     29\u001b[0m         \u001b[0mpredict_Y\u001b[0m \u001b[1;33m=\u001b[0m \u001b[0mmethod\u001b[0m\u001b[1;33m.\u001b[0m\u001b[0mpredict\u001b[0m\u001b[1;33m(\u001b[0m\u001b[0mtest_X\u001b[0m\u001b[1;33m)\u001b[0m\u001b[1;33m\u001b[0m\u001b[0m\n\u001b[1;32m---> 30\u001b[1;33m         \u001b[0mmse\u001b[0m \u001b[1;33m=\u001b[0m \u001b[0mget_error\u001b[0m\u001b[1;33m(\u001b[0m\u001b[0mpredict_Y\u001b[0m\u001b[1;33m,\u001b[0m \u001b[0mtest_Y\u001b[0m\u001b[1;33m,\u001b[0m \u001b[0mmethod_type\u001b[0m\u001b[1;33m)\u001b[0m\u001b[1;33m\u001b[0m\u001b[0m\n\u001b[0m\u001b[0;32m     31\u001b[0m         \u001b[0mmses\u001b[0m\u001b[1;33m.\u001b[0m\u001b[0mappend\u001b[0m\u001b[1;33m(\u001b[0m\u001b[0mmse\u001b[0m\u001b[1;33m)\u001b[0m\u001b[1;33m\u001b[0m\u001b[0m\n\u001b[0;32m     32\u001b[0m     \u001b[0mmmse\u001b[0m \u001b[1;33m=\u001b[0m \u001b[0msum\u001b[0m\u001b[1;33m(\u001b[0m\u001b[0mmses\u001b[0m\u001b[1;33m)\u001b[0m \u001b[1;33m/\u001b[0m \u001b[0mlen\u001b[0m\u001b[1;33m(\u001b[0m\u001b[0mmses\u001b[0m\u001b[1;33m)\u001b[0m\u001b[1;33m\u001b[0m\u001b[0m\n",
      "\u001b[1;32m<ipython-input-97-de2ff8bec2e0>\u001b[0m in \u001b[0;36mget_error\u001b[1;34m(predicted, actual, method_type)\u001b[0m\n\u001b[0;32m     13\u001b[0m \u001b[1;33m\u001b[0m\u001b[0m\n\u001b[0;32m     14\u001b[0m             \u001b[1;32mfor\u001b[0m \u001b[0mi\u001b[0m \u001b[1;32min\u001b[0m \u001b[0mrange\u001b[0m\u001b[1;33m(\u001b[0m\u001b[0mlen\u001b[0m\u001b[1;33m(\u001b[0m\u001b[0mpredicted\u001b[0m\u001b[1;33m)\u001b[0m\u001b[1;33m)\u001b[0m\u001b[1;33m:\u001b[0m\u001b[1;33m\u001b[0m\u001b[0m\n\u001b[1;32m---> 15\u001b[1;33m                 \u001b[0mcounter\u001b[0m \u001b[1;33m+=\u001b[0m \u001b[0mpredicted\u001b[0m\u001b[1;33m[\u001b[0m\u001b[0mi\u001b[0m\u001b[1;33m]\u001b[0m \u001b[1;33m!=\u001b[0m \u001b[0mactual\u001b[0m\u001b[1;33m[\u001b[0m\u001b[0mi\u001b[0m\u001b[1;33m]\u001b[0m\u001b[1;33m\u001b[0m\u001b[0m\n\u001b[0m\u001b[0;32m     16\u001b[0m             \u001b[1;32mreturn\u001b[0m \u001b[0mcounter\u001b[0m\u001b[1;33m\u001b[0m\u001b[0m\n\u001b[0;32m     17\u001b[0m \u001b[1;33m\u001b[0m\u001b[0m\n",
      "\u001b[1;32m~\\Anaconda3\\lib\\site-packages\\pandas\\core\\series.py\u001b[0m in \u001b[0;36m__getitem__\u001b[1;34m(self, key)\u001b[0m\n\u001b[0;32m    599\u001b[0m         \u001b[0mkey\u001b[0m \u001b[1;33m=\u001b[0m \u001b[0mcom\u001b[0m\u001b[1;33m.\u001b[0m\u001b[0m_apply_if_callable\u001b[0m\u001b[1;33m(\u001b[0m\u001b[0mkey\u001b[0m\u001b[1;33m,\u001b[0m \u001b[0mself\u001b[0m\u001b[1;33m)\u001b[0m\u001b[1;33m\u001b[0m\u001b[0m\n\u001b[0;32m    600\u001b[0m         \u001b[1;32mtry\u001b[0m\u001b[1;33m:\u001b[0m\u001b[1;33m\u001b[0m\u001b[0m\n\u001b[1;32m--> 601\u001b[1;33m             \u001b[0mresult\u001b[0m \u001b[1;33m=\u001b[0m \u001b[0mself\u001b[0m\u001b[1;33m.\u001b[0m\u001b[0mindex\u001b[0m\u001b[1;33m.\u001b[0m\u001b[0mget_value\u001b[0m\u001b[1;33m(\u001b[0m\u001b[0mself\u001b[0m\u001b[1;33m,\u001b[0m \u001b[0mkey\u001b[0m\u001b[1;33m)\u001b[0m\u001b[1;33m\u001b[0m\u001b[0m\n\u001b[0m\u001b[0;32m    602\u001b[0m \u001b[1;33m\u001b[0m\u001b[0m\n\u001b[0;32m    603\u001b[0m             \u001b[1;32mif\u001b[0m \u001b[1;32mnot\u001b[0m \u001b[0mis_scalar\u001b[0m\u001b[1;33m(\u001b[0m\u001b[0mresult\u001b[0m\u001b[1;33m)\u001b[0m\u001b[1;33m:\u001b[0m\u001b[1;33m\u001b[0m\u001b[0m\n",
      "\u001b[1;32m~\\Anaconda3\\lib\\site-packages\\pandas\\core\\indexes\\base.py\u001b[0m in \u001b[0;36mget_value\u001b[1;34m(self, series, key)\u001b[0m\n\u001b[0;32m   2475\u001b[0m         \u001b[1;32mtry\u001b[0m\u001b[1;33m:\u001b[0m\u001b[1;33m\u001b[0m\u001b[0m\n\u001b[0;32m   2476\u001b[0m             return self._engine.get_value(s, k,\n\u001b[1;32m-> 2477\u001b[1;33m                                           tz=getattr(series.dtype, 'tz', None))\n\u001b[0m\u001b[0;32m   2478\u001b[0m         \u001b[1;32mexcept\u001b[0m \u001b[0mKeyError\u001b[0m \u001b[1;32mas\u001b[0m \u001b[0me1\u001b[0m\u001b[1;33m:\u001b[0m\u001b[1;33m\u001b[0m\u001b[0m\n\u001b[0;32m   2479\u001b[0m             \u001b[1;32mif\u001b[0m \u001b[0mlen\u001b[0m\u001b[1;33m(\u001b[0m\u001b[0mself\u001b[0m\u001b[1;33m)\u001b[0m \u001b[1;33m>\u001b[0m \u001b[1;36m0\u001b[0m \u001b[1;32mand\u001b[0m \u001b[0mself\u001b[0m\u001b[1;33m.\u001b[0m\u001b[0minferred_type\u001b[0m \u001b[1;32min\u001b[0m \u001b[1;33m[\u001b[0m\u001b[1;34m'integer'\u001b[0m\u001b[1;33m,\u001b[0m \u001b[1;34m'boolean'\u001b[0m\u001b[1;33m]\u001b[0m\u001b[1;33m:\u001b[0m\u001b[1;33m\u001b[0m\u001b[0m\n",
      "\u001b[1;32mpandas\\_libs\\index.pyx\u001b[0m in \u001b[0;36mpandas._libs.index.IndexEngine.get_value\u001b[1;34m()\u001b[0m\n",
      "\u001b[1;32mpandas\\_libs\\index.pyx\u001b[0m in \u001b[0;36mpandas._libs.index.IndexEngine.get_value\u001b[1;34m()\u001b[0m\n",
      "\u001b[1;32mpandas\\_libs\\index.pyx\u001b[0m in \u001b[0;36mpandas._libs.index.IndexEngine.get_loc\u001b[1;34m()\u001b[0m\n",
      "\u001b[1;32mpandas\\_libs\\hashtable_class_helper.pxi\u001b[0m in \u001b[0;36mpandas._libs.hashtable.Int64HashTable.get_item\u001b[1;34m()\u001b[0m\n",
      "\u001b[1;32mpandas\\_libs\\hashtable_class_helper.pxi\u001b[0m in \u001b[0;36mpandas._libs.hashtable.Int64HashTable.get_item\u001b[1;34m()\u001b[0m\n",
      "\u001b[1;31mKeyError\u001b[0m: 0"
     ]
    }
   ],
   "source": [
    "df = pd.read_csv('datasets/iris.csv')\n",
    "#print(df)\n",
    "regr = linear_model.LogisticRegression()\n",
    "mses, mmse = k_fold_cv(df, 5, regr, 'classification', ['sepal_length', 'sepal_width', 'petal_length', 'petal_width'])"
   ]
  },
  {
   "cell_type": "code",
   "execution_count": 76,
   "metadata": {},
   "outputs": [
    {
     "data": {
      "text/html": [
       "<div>\n",
       "<style>\n",
       "    .dataframe thead tr:only-child th {\n",
       "        text-align: right;\n",
       "    }\n",
       "\n",
       "    .dataframe thead th {\n",
       "        text-align: left;\n",
       "    }\n",
       "\n",
       "    .dataframe tbody tr th {\n",
       "        vertical-align: top;\n",
       "    }\n",
       "</style>\n",
       "<table border=\"1\" class=\"dataframe\">\n",
       "  <thead>\n",
       "    <tr style=\"text-align: right;\">\n",
       "      <th></th>\n",
       "      <th>A</th>\n",
       "      <th>B</th>\n",
       "    </tr>\n",
       "  </thead>\n",
       "  <tbody>\n",
       "    <tr>\n",
       "      <th>2</th>\n",
       "      <td>0.291993</td>\n",
       "      <td>0.575017</td>\n",
       "    </tr>\n",
       "    <tr>\n",
       "      <th>3</th>\n",
       "      <td>0.838193</td>\n",
       "      <td>0.430011</td>\n",
       "    </tr>\n",
       "  </tbody>\n",
       "</table>\n",
       "</div>"
      ],
      "text/plain": [
       "          A         B\n",
       "2  0.291993  0.575017\n",
       "3  0.838193  0.430011"
      ]
     },
     "execution_count": 76,
     "metadata": {},
     "output_type": "execute_result"
    }
   ],
   "source": [
    "df = pd.DataFrame(np.random.random((6, 2)), columns=list('AB'))\n",
    "df.iloc[[2, 3], :]"
   ]
  },
  {
   "cell_type": "code",
   "execution_count": null,
   "metadata": {
    "collapsed": true
   },
   "outputs": [],
   "source": []
  }
 ],
 "metadata": {
  "kernelspec": {
   "display_name": "Python 3",
   "language": "python",
   "name": "python3"
  },
  "language_info": {
   "codemirror_mode": {
    "name": "ipython",
    "version": 3
   },
   "file_extension": ".py",
   "mimetype": "text/x-python",
   "name": "python",
   "nbconvert_exporter": "python",
   "pygments_lexer": "ipython3",
   "version": "3.6.3"
  }
 },
 "nbformat": 4,
 "nbformat_minor": 2
}
